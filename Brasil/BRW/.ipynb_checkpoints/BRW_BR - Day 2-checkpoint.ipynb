{
 "cells": [
  {
   "cell_type": "markdown",
   "id": "49b403fc",
   "metadata": {},
   "source": [
    "# BRW Estimation"
   ]
  },
  {
   "cell_type": "markdown",
   "id": "a9cb00b1",
   "metadata": {},
   "source": [
    "Replication code of the BRW shock by Bu, Wu, and Rogers (2021)."
   ]
  },
  {
   "cell_type": "code",
   "execution_count": 1,
   "id": "aa865154",
   "metadata": {},
   "outputs": [],
   "source": [
    "import pandas as pd\n",
    "import statsmodels.api as sm\n",
    "import matplotlib.pyplot as plt\n",
    "from linearmodels.iv import IV2SLS\n",
    "from bizdays import Calendar\n",
    "from matplotlib.ticker import MaxNLocator\n",
    "\n",
    "cal = Calendar.load(\"ANBIMA\")\n",
    "maturity = 2\n",
    "year = 2020\n",
    "month = 12\n",
    "monthname = \"Dec\"\n",
    "MAR2020 = 0"
   ]
  },
  {
   "cell_type": "markdown",
   "id": "eda321c0",
   "metadata": {},
   "source": [
    "## 1. Calculating the difference of the 2-year Treasury series (DGS2)"
   ]
  },
  {
   "cell_type": "markdown",
   "id": "e11974f0",
   "metadata": {},
   "source": [
    "Load the data and rename columns"
   ]
  },
  {
   "cell_type": "code",
   "execution_count": 2,
   "id": "a4d1693a",
   "metadata": {},
   "outputs": [],
   "source": [
    "data = pd.read_excel(r\"C:\\Users\\Alysson\\Documents\\GitHub\\Monetary-Shocks\\Brasil\\BRW\\DGS2.xls\")\n",
    "data.rename(columns={\"observation_date\": \"date\"}, inplace=True)\n",
    "data.sort_values(by='date', inplace=True)\n",
    "data.replace(0, method='ffill', inplace=True)"
   ]
  },
  {
   "cell_type": "markdown",
   "id": "ec673dad",
   "metadata": {},
   "source": [
    "Convert date to datetime format and create additional date-related columns"
   ]
  },
  {
   "cell_type": "code",
   "execution_count": 3,
   "id": "7c27a66e",
   "metadata": {},
   "outputs": [],
   "source": [
    "data[\"date\"] = pd.to_datetime(data[\"date\"])\n",
    "data[\"year\"] = data[\"date\"].dt.year\n",
    "data[\"month\"] = data[\"date\"].dt.month\n",
    "data[\"day\"] = data[\"date\"].dt.day\n",
    "data[\"mdate\"] = data[\"date\"].dt.to_period(\"M\")"
   ]
  },
  {
   "cell_type": "markdown",
   "id": "072d43c8",
   "metadata": {},
   "source": [
    "Filter data for the specified period (up to September 2019 - Cut-off date used for the estimation in the research paper.)"
   ]
  },
  {
   "cell_type": "code",
   "execution_count": 4,
   "id": "fc240594",
   "metadata": {},
   "outputs": [],
   "source": [
    "data = data[data[\"mdate\"] <= pd.Period(\"2023-07\")]\n",
    "data = data[data[\"mdate\"] >= pd.Period(\"1994-01\")]"
   ]
  },
  {
   "cell_type": "markdown",
   "id": "9ac43827",
   "metadata": {},
   "source": [
    "Calculate the difference of the series (dgs_d)"
   ]
  },
  {
   "cell_type": "code",
   "execution_count": 5,
   "id": "649f0c27",
   "metadata": {},
   "outputs": [],
   "source": [
    "data[\"dgs_d\"] = data[\"DGS\" + str(maturity)] - data[\"DGS\" + str(maturity)].shift(1)"
   ]
  },
  {
   "cell_type": "markdown",
   "id": "960e5a23",
   "metadata": {},
   "source": [
    "Set \"mdate\" as the index and convert it to a time series"
   ]
  },
  {
   "cell_type": "code",
   "execution_count": 6,
   "id": "99d59cdd",
   "metadata": {},
   "outputs": [],
   "source": [
    "data.set_index(\"mdate\", inplace=True)\n",
    "data.index = pd.to_datetime(data.index.to_timestamp())"
   ]
  },
  {
   "cell_type": "markdown",
   "id": "a0ef3f78",
   "metadata": {},
   "source": [
    "Drop unnecessary columns"
   ]
  },
  {
   "cell_type": "code",
   "execution_count": 7,
   "id": "e02180ba",
   "metadata": {},
   "outputs": [
    {
     "data": {
      "text/html": [
       "<div>\n",
       "<style scoped>\n",
       "    .dataframe tbody tr th:only-of-type {\n",
       "        vertical-align: middle;\n",
       "    }\n",
       "\n",
       "    .dataframe tbody tr th {\n",
       "        vertical-align: top;\n",
       "    }\n",
       "\n",
       "    .dataframe thead th {\n",
       "        text-align: right;\n",
       "    }\n",
       "</style>\n",
       "<table border=\"1\" class=\"dataframe\">\n",
       "  <thead>\n",
       "    <tr style=\"text-align: right;\">\n",
       "      <th></th>\n",
       "      <th>date</th>\n",
       "      <th>DGS2</th>\n",
       "      <th>dgs_d</th>\n",
       "    </tr>\n",
       "    <tr>\n",
       "      <th>mdate</th>\n",
       "      <th></th>\n",
       "      <th></th>\n",
       "      <th></th>\n",
       "    </tr>\n",
       "  </thead>\n",
       "  <tbody>\n",
       "    <tr>\n",
       "      <th>2000-04-01</th>\n",
       "      <td>2000-04-04</td>\n",
       "      <td>18.4837</td>\n",
       "      <td>NaN</td>\n",
       "    </tr>\n",
       "    <tr>\n",
       "      <th>2000-04-01</th>\n",
       "      <td>2000-04-05</td>\n",
       "      <td>18.7000</td>\n",
       "      <td>0.2163</td>\n",
       "    </tr>\n",
       "    <tr>\n",
       "      <th>2000-04-01</th>\n",
       "      <td>2000-04-06</td>\n",
       "      <td>18.8277</td>\n",
       "      <td>0.1277</td>\n",
       "    </tr>\n",
       "    <tr>\n",
       "      <th>2000-04-01</th>\n",
       "      <td>2000-04-07</td>\n",
       "      <td>18.6444</td>\n",
       "      <td>-0.1833</td>\n",
       "    </tr>\n",
       "    <tr>\n",
       "      <th>2000-04-01</th>\n",
       "      <td>2000-04-08</td>\n",
       "      <td>18.6444</td>\n",
       "      <td>0.0000</td>\n",
       "    </tr>\n",
       "  </tbody>\n",
       "</table>\n",
       "</div>"
      ],
      "text/plain": [
       "                 date     DGS2   dgs_d\n",
       "mdate                                 \n",
       "2000-04-01 2000-04-04  18.4837     NaN\n",
       "2000-04-01 2000-04-05  18.7000  0.2163\n",
       "2000-04-01 2000-04-06  18.8277  0.1277\n",
       "2000-04-01 2000-04-07  18.6444 -0.1833\n",
       "2000-04-01 2000-04-08  18.6444  0.0000"
      ]
     },
     "execution_count": 7,
     "metadata": {},
     "output_type": "execute_result"
    }
   ],
   "source": [
    "data.drop(columns=[\"year\", \"month\", \"day\"], inplace=True)\n",
    "data.head()"
   ]
  },
  {
   "cell_type": "markdown",
   "id": "efd7599a",
   "metadata": {},
   "source": [
    "Save the resulting DataFrame to a new file"
   ]
  },
  {
   "cell_type": "code",
   "execution_count": 8,
   "id": "e1cfba62",
   "metadata": {},
   "outputs": [],
   "source": [
    "data.to_pickle(\"temp.pkl\")"
   ]
  },
  {
   "cell_type": "markdown",
   "id": "76f5167a",
   "metadata": {},
   "source": [
    "## 2. Adding COPOM dates"
   ]
  },
  {
   "cell_type": "markdown",
   "id": "d8a28c2f",
   "metadata": {},
   "source": [
    "Load the COPOM dates from the Excel file"
   ]
  },
  {
   "cell_type": "code",
   "execution_count": 9,
   "id": "f9161059",
   "metadata": {},
   "outputs": [],
   "source": [
    "copom_dates = pd.read_excel(\"C:/Users/Alysson/Documents/GitHub/Monetary-Shocks/Brasil/BRW/COPOMdate.xlsx\")\n",
    "copom_dates.rename(columns={\"date\": \"COPOM_date\"}, inplace=True)"
   ]
  },
  {
   "cell_type": "markdown",
   "id": "ba7284b9",
   "metadata": {},
   "source": [
    "Convert date to datetime format and create additional date-related columns"
   ]
  },
  {
   "cell_type": "code",
   "execution_count": 10,
   "id": "a6fa6932",
   "metadata": {},
   "outputs": [],
   "source": [
    "dias_uteis = 5\n",
    "\n",
    "copom_dates['COPOM_date'] = pd.to_datetime(copom_dates['COPOM_date'])\n",
    "copom_dates = copom_dates[copom_dates['COPOM_date'] >= pd.Period(\"2001-01-01\").to_timestamp()]\n",
    "copom_dates['COPOM_date'] = cal.offset(copom_dates['COPOM_date'],2)\n",
    "instrumento = pd.DataFrame({'COPOM_date': cal.offset(copom_dates['COPOM_date'],dias_uteis),'q':0})\n",
    "copom_dates = pd.concat([copom_dates, instrumento])\n",
    "copom_dates['COPOM_date'] = pd.to_datetime(copom_dates['COPOM_date'])\n",
    "copom_dates[\"year\"] = copom_dates[\"COPOM_date\"].dt.year\n",
    "copom_dates[\"month\"] = copom_dates[\"COPOM_date\"].dt.month\n",
    "copom_dates[\"day\"] = copom_dates[\"COPOM_date\"].dt.day\n",
    "copom_dates[\"mdate\"] = copom_dates[\"COPOM_date\"].dt.to_period(\"M\")\n"
   ]
  },
  {
   "cell_type": "markdown",
   "id": "a6720272",
   "metadata": {},
   "source": [
    "Drop unnecessary columns"
   ]
  },
  {
   "cell_type": "code",
   "execution_count": 11,
   "id": "307a730d",
   "metadata": {},
   "outputs": [],
   "source": [
    "copom_dates.drop(columns=[\"year\", \"month\", \"day\"], inplace=True)"
   ]
  },
  {
   "cell_type": "markdown",
   "id": "6dd41369",
   "metadata": {},
   "source": [
    "Load the previous DataFrame \"temp.dta\" "
   ]
  },
  {
   "cell_type": "code",
   "execution_count": 12,
   "id": "57b10b28",
   "metadata": {},
   "outputs": [],
   "source": [
    "temp_data = pd.read_pickle(\"temp.pkl\")"
   ]
  },
  {
   "cell_type": "code",
   "execution_count": 13,
   "id": "8978de37",
   "metadata": {},
   "outputs": [
    {
     "data": {
      "text/html": [
       "<div>\n",
       "<style scoped>\n",
       "    .dataframe tbody tr th:only-of-type {\n",
       "        vertical-align: middle;\n",
       "    }\n",
       "\n",
       "    .dataframe tbody tr th {\n",
       "        vertical-align: top;\n",
       "    }\n",
       "\n",
       "    .dataframe thead th {\n",
       "        text-align: right;\n",
       "    }\n",
       "</style>\n",
       "<table border=\"1\" class=\"dataframe\">\n",
       "  <thead>\n",
       "    <tr style=\"text-align: right;\">\n",
       "      <th></th>\n",
       "      <th>COPOM_date</th>\n",
       "      <th>q</th>\n",
       "      <th>mdate</th>\n",
       "    </tr>\n",
       "  </thead>\n",
       "  <tbody>\n",
       "    <tr>\n",
       "      <th>54</th>\n",
       "      <td>2001-01-19</td>\n",
       "      <td>1</td>\n",
       "      <td>2001-01</td>\n",
       "    </tr>\n",
       "    <tr>\n",
       "      <th>0</th>\n",
       "      <td>2001-01-26</td>\n",
       "      <td>0</td>\n",
       "      <td>2001-01</td>\n",
       "    </tr>\n",
       "    <tr>\n",
       "      <th>55</th>\n",
       "      <td>2001-02-16</td>\n",
       "      <td>1</td>\n",
       "      <td>2001-02</td>\n",
       "    </tr>\n",
       "    <tr>\n",
       "      <th>1</th>\n",
       "      <td>2001-02-23</td>\n",
       "      <td>0</td>\n",
       "      <td>2001-02</td>\n",
       "    </tr>\n",
       "    <tr>\n",
       "      <th>56</th>\n",
       "      <td>2001-03-23</td>\n",
       "      <td>1</td>\n",
       "      <td>2001-03</td>\n",
       "    </tr>\n",
       "    <tr>\n",
       "      <th>...</th>\n",
       "      <td>...</td>\n",
       "      <td>...</td>\n",
       "      <td>...</td>\n",
       "    </tr>\n",
       "    <tr>\n",
       "      <th>197</th>\n",
       "      <td>2023-02-10</td>\n",
       "      <td>0</td>\n",
       "      <td>2023-02</td>\n",
       "    </tr>\n",
       "    <tr>\n",
       "      <th>252</th>\n",
       "      <td>2023-03-24</td>\n",
       "      <td>1</td>\n",
       "      <td>2023-03</td>\n",
       "    </tr>\n",
       "    <tr>\n",
       "      <th>198</th>\n",
       "      <td>2023-03-31</td>\n",
       "      <td>0</td>\n",
       "      <td>2023-03</td>\n",
       "    </tr>\n",
       "    <tr>\n",
       "      <th>253</th>\n",
       "      <td>2023-05-05</td>\n",
       "      <td>1</td>\n",
       "      <td>2023-05</td>\n",
       "    </tr>\n",
       "    <tr>\n",
       "      <th>199</th>\n",
       "      <td>2023-05-12</td>\n",
       "      <td>0</td>\n",
       "      <td>2023-05</td>\n",
       "    </tr>\n",
       "  </tbody>\n",
       "</table>\n",
       "<p>400 rows × 3 columns</p>\n",
       "</div>"
      ],
      "text/plain": [
       "    COPOM_date  q    mdate\n",
       "54  2001-01-19  1  2001-01\n",
       "0   2001-01-26  0  2001-01\n",
       "55  2001-02-16  1  2001-02\n",
       "1   2001-02-23  0  2001-02\n",
       "56  2001-03-23  1  2001-03\n",
       "..         ... ..      ...\n",
       "197 2023-02-10  0  2023-02\n",
       "252 2023-03-24  1  2023-03\n",
       "198 2023-03-31  0  2023-03\n",
       "253 2023-05-05  1  2023-05\n",
       "199 2023-05-12  0  2023-05\n",
       "\n",
       "[400 rows x 3 columns]"
      ]
     },
     "execution_count": 13,
     "metadata": {},
     "output_type": "execute_result"
    }
   ],
   "source": [
    "copom_dates.sort_values(\"COPOM_date\")"
   ]
  },
  {
   "cell_type": "markdown",
   "id": "8c91d88c",
   "metadata": {},
   "source": [
    "Merge the two DataFrames on the 'date' column"
   ]
  },
  {
   "cell_type": "code",
   "execution_count": 14,
   "id": "13212cb0",
   "metadata": {},
   "outputs": [],
   "source": [
    "merged_data = pd.merge(temp_data, copom_dates, how=\"inner\", left_on=\"date\", right_on=\"COPOM_date\")"
   ]
  },
  {
   "cell_type": "markdown",
   "id": "c9e9a6c3",
   "metadata": {},
   "source": [
    "Drop rows where 'q' is missing (denoted as NaN)"
   ]
  },
  {
   "cell_type": "code",
   "execution_count": 15,
   "id": "812aa7fa",
   "metadata": {},
   "outputs": [],
   "source": [
    "merged_data = merged_data.dropna(subset=[\"q\"])"
   ]
  },
  {
   "cell_type": "markdown",
   "id": "9d203c02",
   "metadata": {},
   "source": [
    "Replace missing values (NaN) in 'q' with 0"
   ]
  },
  {
   "cell_type": "code",
   "execution_count": 16,
   "id": "60200c90",
   "metadata": {},
   "outputs": [
    {
     "data": {
      "text/html": [
       "<div>\n",
       "<style scoped>\n",
       "    .dataframe tbody tr th:only-of-type {\n",
       "        vertical-align: middle;\n",
       "    }\n",
       "\n",
       "    .dataframe tbody tr th {\n",
       "        vertical-align: top;\n",
       "    }\n",
       "\n",
       "    .dataframe thead th {\n",
       "        text-align: right;\n",
       "    }\n",
       "</style>\n",
       "<table border=\"1\" class=\"dataframe\">\n",
       "  <thead>\n",
       "    <tr style=\"text-align: right;\">\n",
       "      <th></th>\n",
       "      <th>date</th>\n",
       "      <th>DGS2</th>\n",
       "      <th>dgs_d</th>\n",
       "      <th>COPOM_date</th>\n",
       "      <th>q</th>\n",
       "      <th>mdate</th>\n",
       "    </tr>\n",
       "  </thead>\n",
       "  <tbody>\n",
       "    <tr>\n",
       "      <th>0</th>\n",
       "      <td>2001-01-19</td>\n",
       "      <td>15.8650</td>\n",
       "      <td>-0.0471</td>\n",
       "      <td>2001-01-19</td>\n",
       "      <td>1</td>\n",
       "      <td>2001-01</td>\n",
       "    </tr>\n",
       "    <tr>\n",
       "      <th>1</th>\n",
       "      <td>2001-01-26</td>\n",
       "      <td>15.5215</td>\n",
       "      <td>-0.1126</td>\n",
       "      <td>2001-01-26</td>\n",
       "      <td>0</td>\n",
       "      <td>2001-01</td>\n",
       "    </tr>\n",
       "    <tr>\n",
       "      <th>2</th>\n",
       "      <td>2001-02-16</td>\n",
       "      <td>16.0416</td>\n",
       "      <td>0.1090</td>\n",
       "      <td>2001-02-16</td>\n",
       "      <td>1</td>\n",
       "      <td>2001-02</td>\n",
       "    </tr>\n",
       "    <tr>\n",
       "      <th>3</th>\n",
       "      <td>2001-02-23</td>\n",
       "      <td>16.2974</td>\n",
       "      <td>-0.0979</td>\n",
       "      <td>2001-02-23</td>\n",
       "      <td>0</td>\n",
       "      <td>2001-02</td>\n",
       "    </tr>\n",
       "    <tr>\n",
       "      <th>4</th>\n",
       "      <td>2001-03-23</td>\n",
       "      <td>21.0884</td>\n",
       "      <td>0.2135</td>\n",
       "      <td>2001-03-23</td>\n",
       "      <td>1</td>\n",
       "      <td>2001-03</td>\n",
       "    </tr>\n",
       "  </tbody>\n",
       "</table>\n",
       "</div>"
      ],
      "text/plain": [
       "        date     DGS2   dgs_d COPOM_date  q    mdate\n",
       "0 2001-01-19  15.8650 -0.0471 2001-01-19  1  2001-01\n",
       "1 2001-01-26  15.5215 -0.1126 2001-01-26  0  2001-01\n",
       "2 2001-02-16  16.0416  0.1090 2001-02-16  1  2001-02\n",
       "3 2001-02-23  16.2974 -0.0979 2001-02-23  0  2001-02\n",
       "4 2001-03-23  21.0884  0.2135 2001-03-23  1  2001-03"
      ]
     },
     "execution_count": 16,
     "metadata": {},
     "output_type": "execute_result"
    }
   ],
   "source": [
    "merged_data[\"q\"].fillna(0, inplace=True)\n",
    "merged_data.head()"
   ]
  },
  {
   "cell_type": "markdown",
   "id": "93d255b9",
   "metadata": {},
   "source": [
    "Save the merged DataFrame to a new file"
   ]
  },
  {
   "cell_type": "code",
   "execution_count": 17,
   "id": "4eb7e644",
   "metadata": {},
   "outputs": [],
   "source": [
    "merged_data.to_pickle(\"temp.pkl\")"
   ]
  },
  {
   "cell_type": "markdown",
   "id": "e11aa74e",
   "metadata": {},
   "source": [
    "## 3. Estimation"
   ]
  },
  {
   "cell_type": "markdown",
   "id": "3231dcb3",
   "metadata": {},
   "source": [
    "Load the data from \"svensson_br.xlsx\" "
   ]
  },
  {
   "cell_type": "code",
   "execution_count": 18,
   "id": "1c118168",
   "metadata": {},
   "outputs": [],
   "source": [
    "yield_data = pd.read_excel(r\"C:\\Users\\Alysson\\Documents\\GitHub\\Monetary-Shocks\\Brasil\\BRW\\svensson_br.xlsx\")"
   ]
  },
  {
   "cell_type": "markdown",
   "id": "6138a827",
   "metadata": {},
   "source": [
    "Convert 'date' column to datetime format and keeping only necessary columns"
   ]
  },
  {
   "cell_type": "code",
   "execution_count": 19,
   "id": "a5937ca9",
   "metadata": {},
   "outputs": [],
   "source": [
    "yield_data['date'] = pd.to_datetime(yield_data['Date'], format='%Y-%m-%d')\n",
    "yield_data.sort_values(by='date', inplace=True)\n",
    "yield_data.loc[:, 'SVENY01':'SVENY30'] = yield_data.loc[:, 'SVENY01':'SVENY30'].fillna(method='ffill')"
   ]
  },
  {
   "cell_type": "code",
   "execution_count": 20,
   "id": "37aaa05a",
   "metadata": {},
   "outputs": [],
   "source": [
    "yield_data['year'] = yield_data['date'].dt.year\n",
    "yield_data['month'] = yield_data['date'].dt.month\n",
    "yield_data['day'] = yield_data['date'].dt.day\n",
    "yield_data['date'] = pd.to_datetime(yield_data[['year', 'month', 'day']])\n",
    "yield_data['mdate'] = yield_data['date'].dt.to_period('M')\n",
    "yield_data = yield_data[['date', 'mdate'] + [col for col in yield_data.columns if col.startswith('SVENY')]]\n",
    "yield_data = yield_data[yield_data['mdate'] >= pd.Period('1994-01')]"
   ]
  },
  {
   "cell_type": "code",
   "execution_count": 21,
   "id": "e3259d87",
   "metadata": {},
   "outputs": [
    {
     "data": {
      "text/html": [
       "<div>\n",
       "<style scoped>\n",
       "    .dataframe tbody tr th:only-of-type {\n",
       "        vertical-align: middle;\n",
       "    }\n",
       "\n",
       "    .dataframe tbody tr th {\n",
       "        vertical-align: top;\n",
       "    }\n",
       "\n",
       "    .dataframe thead th {\n",
       "        text-align: right;\n",
       "    }\n",
       "</style>\n",
       "<table border=\"1\" class=\"dataframe\">\n",
       "  <thead>\n",
       "    <tr style=\"text-align: right;\">\n",
       "      <th></th>\n",
       "      <th>date</th>\n",
       "      <th>mdate</th>\n",
       "      <th>SVENY01</th>\n",
       "      <th>SVENY02</th>\n",
       "      <th>SVENY05</th>\n",
       "      <th>SVENY10</th>\n",
       "      <th>SVENY30</th>\n",
       "    </tr>\n",
       "  </thead>\n",
       "  <tbody>\n",
       "    <tr>\n",
       "      <th>0</th>\n",
       "      <td>2006-01-02</td>\n",
       "      <td>2006-01</td>\n",
       "      <td>16.603599</td>\n",
       "      <td>16.069818</td>\n",
       "      <td>15.596889</td>\n",
       "      <td>15.433628</td>\n",
       "      <td>15.324786</td>\n",
       "    </tr>\n",
       "    <tr>\n",
       "      <th>1</th>\n",
       "      <td>2006-01-03</td>\n",
       "      <td>2006-01</td>\n",
       "      <td>16.594441</td>\n",
       "      <td>16.064808</td>\n",
       "      <td>15.574586</td>\n",
       "      <td>15.404660</td>\n",
       "      <td>15.291373</td>\n",
       "    </tr>\n",
       "    <tr>\n",
       "      <th>2</th>\n",
       "      <td>2006-01-04</td>\n",
       "      <td>2006-01</td>\n",
       "      <td>16.567391</td>\n",
       "      <td>15.906773</td>\n",
       "      <td>15.396983</td>\n",
       "      <td>15.316237</td>\n",
       "      <td>15.274382</td>\n",
       "    </tr>\n",
       "    <tr>\n",
       "      <th>3</th>\n",
       "      <td>2006-01-05</td>\n",
       "      <td>2006-01</td>\n",
       "      <td>16.564073</td>\n",
       "      <td>15.900342</td>\n",
       "      <td>15.374310</td>\n",
       "      <td>15.317283</td>\n",
       "      <td>15.301432</td>\n",
       "    </tr>\n",
       "    <tr>\n",
       "      <th>4</th>\n",
       "      <td>2006-01-06</td>\n",
       "      <td>2006-01</td>\n",
       "      <td>16.537489</td>\n",
       "      <td>15.886892</td>\n",
       "      <td>15.385606</td>\n",
       "      <td>15.376966</td>\n",
       "      <td>15.404397</td>\n",
       "    </tr>\n",
       "  </tbody>\n",
       "</table>\n",
       "</div>"
      ],
      "text/plain": [
       "        date    mdate    SVENY01    SVENY02    SVENY05    SVENY10    SVENY30\n",
       "0 2006-01-02  2006-01  16.603599  16.069818  15.596889  15.433628  15.324786\n",
       "1 2006-01-03  2006-01  16.594441  16.064808  15.574586  15.404660  15.291373\n",
       "2 2006-01-04  2006-01  16.567391  15.906773  15.396983  15.316237  15.274382\n",
       "3 2006-01-05  2006-01  16.564073  15.900342  15.374310  15.317283  15.301432\n",
       "4 2006-01-06  2006-01  16.537489  15.886892  15.385606  15.376966  15.404397"
      ]
     },
     "execution_count": 21,
     "metadata": {},
     "output_type": "execute_result"
    }
   ],
   "source": [
    "yield_data.head()"
   ]
  },
  {
   "cell_type": "markdown",
   "id": "c2af8a00",
   "metadata": {},
   "source": [
    "Create a list for all maturities of the treasuries"
   ]
  },
  {
   "cell_type": "markdown",
   "id": "2c65fc61",
   "metadata": {},
   "source": [
    "Calculate differences for each maturity"
   ]
  },
  {
   "cell_type": "code",
   "execution_count": 22,
   "id": "9378156a",
   "metadata": {},
   "outputs": [
    {
     "ename": "KeyError",
     "evalue": "'SVENY03'",
     "output_type": "error",
     "traceback": [
      "\u001b[1;31m---------------------------------------------------------------------------\u001b[0m",
      "\u001b[1;31mKeyError\u001b[0m                                  Traceback (most recent call last)",
      "File \u001b[1;32m~\\anaconda3\\Lib\\site-packages\\pandas\\core\\indexes\\base.py:3802\u001b[0m, in \u001b[0;36mIndex.get_loc\u001b[1;34m(self, key, method, tolerance)\u001b[0m\n\u001b[0;32m   3801\u001b[0m \u001b[38;5;28;01mtry\u001b[39;00m:\n\u001b[1;32m-> 3802\u001b[0m     \u001b[38;5;28;01mreturn\u001b[39;00m \u001b[38;5;28mself\u001b[39m\u001b[38;5;241m.\u001b[39m_engine\u001b[38;5;241m.\u001b[39mget_loc(casted_key)\n\u001b[0;32m   3803\u001b[0m \u001b[38;5;28;01mexcept\u001b[39;00m \u001b[38;5;167;01mKeyError\u001b[39;00m \u001b[38;5;28;01mas\u001b[39;00m err:\n",
      "File \u001b[1;32m~\\anaconda3\\Lib\\site-packages\\pandas\\_libs\\index.pyx:138\u001b[0m, in \u001b[0;36mpandas._libs.index.IndexEngine.get_loc\u001b[1;34m()\u001b[0m\n",
      "File \u001b[1;32m~\\anaconda3\\Lib\\site-packages\\pandas\\_libs\\index.pyx:165\u001b[0m, in \u001b[0;36mpandas._libs.index.IndexEngine.get_loc\u001b[1;34m()\u001b[0m\n",
      "File \u001b[1;32mpandas\\_libs\\hashtable_class_helper.pxi:5745\u001b[0m, in \u001b[0;36mpandas._libs.hashtable.PyObjectHashTable.get_item\u001b[1;34m()\u001b[0m\n",
      "File \u001b[1;32mpandas\\_libs\\hashtable_class_helper.pxi:5753\u001b[0m, in \u001b[0;36mpandas._libs.hashtable.PyObjectHashTable.get_item\u001b[1;34m()\u001b[0m\n",
      "\u001b[1;31mKeyError\u001b[0m: 'SVENY03'",
      "\nThe above exception was the direct cause of the following exception:\n",
      "\u001b[1;31mKeyError\u001b[0m                                  Traceback (most recent call last)",
      "Cell \u001b[1;32mIn[22], line 5\u001b[0m\n\u001b[0;32m      3\u001b[0m \u001b[38;5;28;01mfor\u001b[39;00m num \u001b[38;5;129;01min\u001b[39;00m list_maturities:\n\u001b[0;32m      4\u001b[0m     col_name \u001b[38;5;241m=\u001b[39m \u001b[38;5;124mf\u001b[39m\u001b[38;5;124m'\u001b[39m\u001b[38;5;124mSVENY\u001b[39m\u001b[38;5;132;01m{\u001b[39;00mnum\u001b[38;5;132;01m}\u001b[39;00m\u001b[38;5;124m'\u001b[39m\n\u001b[1;32m----> 5\u001b[0m     yield_data[\u001b[38;5;124mf\u001b[39m\u001b[38;5;124m'\u001b[39m\u001b[38;5;132;01m{\u001b[39;00mcol_name\u001b[38;5;132;01m}\u001b[39;00m\u001b[38;5;124m_d\u001b[39m\u001b[38;5;124m'\u001b[39m] \u001b[38;5;241m=\u001b[39m yield_data[col_name]\u001b[38;5;241m.\u001b[39mdiff()\n\u001b[0;32m      6\u001b[0m selected_columns \u001b[38;5;241m=\u001b[39m yield_data\u001b[38;5;241m.\u001b[39miloc[:, \u001b[38;5;241m-\u001b[39m\u001b[38;5;241m30\u001b[39m:]\n",
      "File \u001b[1;32m~\\anaconda3\\Lib\\site-packages\\pandas\\core\\frame.py:3807\u001b[0m, in \u001b[0;36mDataFrame.__getitem__\u001b[1;34m(self, key)\u001b[0m\n\u001b[0;32m   3805\u001b[0m \u001b[38;5;28;01mif\u001b[39;00m \u001b[38;5;28mself\u001b[39m\u001b[38;5;241m.\u001b[39mcolumns\u001b[38;5;241m.\u001b[39mnlevels \u001b[38;5;241m>\u001b[39m \u001b[38;5;241m1\u001b[39m:\n\u001b[0;32m   3806\u001b[0m     \u001b[38;5;28;01mreturn\u001b[39;00m \u001b[38;5;28mself\u001b[39m\u001b[38;5;241m.\u001b[39m_getitem_multilevel(key)\n\u001b[1;32m-> 3807\u001b[0m indexer \u001b[38;5;241m=\u001b[39m \u001b[38;5;28mself\u001b[39m\u001b[38;5;241m.\u001b[39mcolumns\u001b[38;5;241m.\u001b[39mget_loc(key)\n\u001b[0;32m   3808\u001b[0m \u001b[38;5;28;01mif\u001b[39;00m is_integer(indexer):\n\u001b[0;32m   3809\u001b[0m     indexer \u001b[38;5;241m=\u001b[39m [indexer]\n",
      "File \u001b[1;32m~\\anaconda3\\Lib\\site-packages\\pandas\\core\\indexes\\base.py:3804\u001b[0m, in \u001b[0;36mIndex.get_loc\u001b[1;34m(self, key, method, tolerance)\u001b[0m\n\u001b[0;32m   3802\u001b[0m     \u001b[38;5;28;01mreturn\u001b[39;00m \u001b[38;5;28mself\u001b[39m\u001b[38;5;241m.\u001b[39m_engine\u001b[38;5;241m.\u001b[39mget_loc(casted_key)\n\u001b[0;32m   3803\u001b[0m \u001b[38;5;28;01mexcept\u001b[39;00m \u001b[38;5;167;01mKeyError\u001b[39;00m \u001b[38;5;28;01mas\u001b[39;00m err:\n\u001b[1;32m-> 3804\u001b[0m     \u001b[38;5;28;01mraise\u001b[39;00m \u001b[38;5;167;01mKeyError\u001b[39;00m(key) \u001b[38;5;28;01mfrom\u001b[39;00m \u001b[38;5;21;01merr\u001b[39;00m\n\u001b[0;32m   3805\u001b[0m \u001b[38;5;28;01mexcept\u001b[39;00m \u001b[38;5;167;01mTypeError\u001b[39;00m:\n\u001b[0;32m   3806\u001b[0m     \u001b[38;5;66;03m# If we have a listlike key, _check_indexing_error will raise\u001b[39;00m\n\u001b[0;32m   3807\u001b[0m     \u001b[38;5;66;03m#  InvalidIndexError. Otherwise we fall through and re-raise\u001b[39;00m\n\u001b[0;32m   3808\u001b[0m     \u001b[38;5;66;03m#  the TypeError.\u001b[39;00m\n\u001b[0;32m   3809\u001b[0m     \u001b[38;5;28mself\u001b[39m\u001b[38;5;241m.\u001b[39m_check_indexing_error(key)\n",
      "\u001b[1;31mKeyError\u001b[0m: 'SVENY03'"
     ]
    }
   ],
   "source": [
    "list_maturities = [str(i).zfill(2) for i in range(1, 31)]\n",
    "\n",
    "for num in list_maturities:\n",
    "    col_name = f'SVENY{num}'\n",
    "    yield_data[f'{col_name}_d'] = yield_data[col_name].diff()\n",
    "selected_columns = yield_data.iloc[:, -30:]"
   ]
  },
  {
   "cell_type": "markdown",
   "id": "cf5a1d84",
   "metadata": {},
   "source": [
    "Create aligned_dgs_d column"
   ]
  },
  {
   "cell_type": "code",
   "execution_count": null,
   "id": "6d85b348",
   "metadata": {},
   "outputs": [],
   "source": [
    "data_complete = merged_data.merge(yield_data, on=['date','mdate'], how='inner')\n",
    "data_complete.head()"
   ]
  },
  {
   "cell_type": "markdown",
   "id": "d9d1a5e7",
   "metadata": {},
   "source": [
    "### Step 1 - 2SLS"
   ]
  },
  {
   "cell_type": "code",
   "execution_count": null,
   "id": "45ac1f9d",
   "metadata": {},
   "outputs": [],
   "source": [
    "### Creating IV\n",
    "\n",
    "mask_q0 = data_complete[\"q\"] == 0\n",
    "mask_q1 = data_complete[\"q\"] == 1\n",
    "data_complete[\"const\"] = 1\n",
    "data_complete[\"iv\"] = data_complete[mask_q1][\"dgs_d\"]\n",
    "data_complete.loc[mask_q0, \"iv\"] = -1 * data_complete.loc[mask_q0, \"dgs_d\"]"
   ]
  },
  {
   "cell_type": "code",
   "execution_count": null,
   "id": "d0474f7e",
   "metadata": {},
   "outputs": [],
   "source": [
    "for num in list_maturities:\n",
    "    col_name = f'SVENY{num}_d'\n",
    "    model = IV2SLS(dependent=data_complete[col_name], endog=data_complete[\"dgs_d\"], exog=data_complete[[\"const\"]], instruments=data_complete[\"iv\"])\n",
    "    results = model.fit()\n",
    "    data_complete[f\"beta_hat{num}\"]=results.params[\"dgs_d\"]\n",
    "    print(results)\n",
    "data_complete.head()"
   ]
  },
  {
   "cell_type": "markdown",
   "id": "131294e1",
   "metadata": {},
   "source": [
    "### Step 2 - Fama and MacBeth"
   ]
  },
  {
   "cell_type": "code",
   "execution_count": 65,
   "id": "9fb73c02",
   "metadata": {},
   "outputs": [],
   "source": [
    "data_complete = data_complete.loc[~mask_q0]\n",
    "maxt = len(data_complete)\n",
    "\n",
    "aligned_dgs_d = []\n",
    "for num in range(maxt):\n",
    "    sveny_values = data_complete.iloc[num, data_complete.columns.get_loc(\"SVENY01_d\"):data_complete.columns.get_loc(\"SVENY30_d\") + 1].values.astype(float)\n",
    "    beta_values = data_complete.iloc[num, data_complete.columns.get_loc(\"beta_hat01\"):data_complete.columns.get_loc(\"beta_hat30\") + 1].values.astype(float)\n",
    "\n",
    "    # Adicionando uma constante à matriz independente (para o termo constante na regressão)\n",
    "    X = sm.add_constant(beta_values)\n",
    "\n",
    "    # Realizando a regressão usando o OLS do StatsModels\n",
    "    model = sm.OLS(sveny_values, X)\n",
    "    results = model.fit()\n",
    "\n",
    "    # Imprimindo os coeficientes beta estimados\n",
    "    aligned_dgs_d.append(results.params[1:])\n",
    "\n",
    "data_complete[\"new_shock\"]=aligned_dgs_d\n",
    "data_complete[\"new_shock\"] = data_complete[\"new_shock\"].apply(lambda x: x[0])"
   ]
  },
  {
   "cell_type": "code",
   "execution_count": 66,
   "id": "4d03987a",
   "metadata": {},
   "outputs": [
    {
     "data": {
      "text/html": [
       "<div>\n",
       "<style scoped>\n",
       "    .dataframe tbody tr th:only-of-type {\n",
       "        vertical-align: middle;\n",
       "    }\n",
       "\n",
       "    .dataframe tbody tr th {\n",
       "        vertical-align: top;\n",
       "    }\n",
       "\n",
       "    .dataframe thead th {\n",
       "        text-align: right;\n",
       "    }\n",
       "</style>\n",
       "<table border=\"1\" class=\"dataframe\">\n",
       "  <thead>\n",
       "    <tr style=\"text-align: right;\">\n",
       "      <th></th>\n",
       "      <th>date</th>\n",
       "      <th>DGS2</th>\n",
       "      <th>dgs_d</th>\n",
       "      <th>COPOM_date</th>\n",
       "      <th>q</th>\n",
       "      <th>mdate</th>\n",
       "      <th>SVENY01</th>\n",
       "      <th>SVENY02</th>\n",
       "      <th>SVENY03</th>\n",
       "      <th>SVENY04</th>\n",
       "      <th>...</th>\n",
       "      <th>beta_hat22</th>\n",
       "      <th>beta_hat23</th>\n",
       "      <th>beta_hat24</th>\n",
       "      <th>beta_hat25</th>\n",
       "      <th>beta_hat26</th>\n",
       "      <th>beta_hat27</th>\n",
       "      <th>beta_hat28</th>\n",
       "      <th>beta_hat29</th>\n",
       "      <th>beta_hat30</th>\n",
       "      <th>new_shock</th>\n",
       "    </tr>\n",
       "  </thead>\n",
       "  <tbody>\n",
       "    <tr>\n",
       "      <th>0</th>\n",
       "      <td>2006-01-19</td>\n",
       "      <td>16.0114</td>\n",
       "      <td>-0.1546</td>\n",
       "      <td>2006-01-19</td>\n",
       "      <td>1</td>\n",
       "      <td>2006-01</td>\n",
       "      <td>16.009385</td>\n",
       "      <td>15.484445</td>\n",
       "      <td>15.271040</td>\n",
       "      <td>15.173919</td>\n",
       "      <td>...</td>\n",
       "      <td>-0.510397</td>\n",
       "      <td>-0.516258</td>\n",
       "      <td>-0.52138</td>\n",
       "      <td>-0.525881</td>\n",
       "      <td>-0.529858</td>\n",
       "      <td>-0.533391</td>\n",
       "      <td>-0.536548</td>\n",
       "      <td>-0.539385</td>\n",
       "      <td>-0.541951</td>\n",
       "      <td>0.109614</td>\n",
       "    </tr>\n",
       "    <tr>\n",
       "      <th>2</th>\n",
       "      <td>2006-03-09</td>\n",
       "      <td>15.1785</td>\n",
       "      <td>-0.0968</td>\n",
       "      <td>2006-03-09</td>\n",
       "      <td>1</td>\n",
       "      <td>2006-03</td>\n",
       "      <td>15.205391</td>\n",
       "      <td>14.847149</td>\n",
       "      <td>14.644118</td>\n",
       "      <td>14.517668</td>\n",
       "      <td>...</td>\n",
       "      <td>-0.510397</td>\n",
       "      <td>-0.516258</td>\n",
       "      <td>-0.52138</td>\n",
       "      <td>-0.525881</td>\n",
       "      <td>-0.529858</td>\n",
       "      <td>-0.533391</td>\n",
       "      <td>-0.536548</td>\n",
       "      <td>-0.539385</td>\n",
       "      <td>-0.541951</td>\n",
       "      <td>-0.051779</td>\n",
       "    </tr>\n",
       "    <tr>\n",
       "      <th>4</th>\n",
       "      <td>2006-04-20</td>\n",
       "      <td>14.7318</td>\n",
       "      <td>0.0817</td>\n",
       "      <td>2006-04-20</td>\n",
       "      <td>1</td>\n",
       "      <td>2006-04</td>\n",
       "      <td>14.725141</td>\n",
       "      <td>14.768773</td>\n",
       "      <td>14.903226</td>\n",
       "      <td>14.990924</td>\n",
       "      <td>...</td>\n",
       "      <td>-0.510397</td>\n",
       "      <td>-0.516258</td>\n",
       "      <td>-0.52138</td>\n",
       "      <td>-0.525881</td>\n",
       "      <td>-0.529858</td>\n",
       "      <td>-0.533391</td>\n",
       "      <td>-0.536548</td>\n",
       "      <td>-0.539385</td>\n",
       "      <td>-0.541951</td>\n",
       "      <td>0.004412</td>\n",
       "    </tr>\n",
       "    <tr>\n",
       "      <th>6</th>\n",
       "      <td>2006-06-01</td>\n",
       "      <td>15.4108</td>\n",
       "      <td>-0.1473</td>\n",
       "      <td>2006-06-01</td>\n",
       "      <td>1</td>\n",
       "      <td>2006-06</td>\n",
       "      <td>15.483126</td>\n",
       "      <td>15.980536</td>\n",
       "      <td>16.197760</td>\n",
       "      <td>16.342153</td>\n",
       "      <td>...</td>\n",
       "      <td>-0.510397</td>\n",
       "      <td>-0.516258</td>\n",
       "      <td>-0.52138</td>\n",
       "      <td>-0.525881</td>\n",
       "      <td>-0.529858</td>\n",
       "      <td>-0.533391</td>\n",
       "      <td>-0.536548</td>\n",
       "      <td>-0.539385</td>\n",
       "      <td>-0.541951</td>\n",
       "      <td>-0.127731</td>\n",
       "    </tr>\n",
       "    <tr>\n",
       "      <th>8</th>\n",
       "      <td>2006-07-20</td>\n",
       "      <td>14.5070</td>\n",
       "      <td>-0.0238</td>\n",
       "      <td>2006-07-20</td>\n",
       "      <td>1</td>\n",
       "      <td>2006-07</td>\n",
       "      <td>14.551159</td>\n",
       "      <td>14.958297</td>\n",
       "      <td>15.236822</td>\n",
       "      <td>15.443164</td>\n",
       "      <td>...</td>\n",
       "      <td>-0.510397</td>\n",
       "      <td>-0.516258</td>\n",
       "      <td>-0.52138</td>\n",
       "      <td>-0.525881</td>\n",
       "      <td>-0.529858</td>\n",
       "      <td>-0.533391</td>\n",
       "      <td>-0.536548</td>\n",
       "      <td>-0.539385</td>\n",
       "      <td>-0.541951</td>\n",
       "      <td>0.007062</td>\n",
       "    </tr>\n",
       "    <tr>\n",
       "      <th>...</th>\n",
       "      <td>...</td>\n",
       "      <td>...</td>\n",
       "      <td>...</td>\n",
       "      <td>...</td>\n",
       "      <td>...</td>\n",
       "      <td>...</td>\n",
       "      <td>...</td>\n",
       "      <td>...</td>\n",
       "      <td>...</td>\n",
       "      <td>...</td>\n",
       "      <td>...</td>\n",
       "      <td>...</td>\n",
       "      <td>...</td>\n",
       "      <td>...</td>\n",
       "      <td>...</td>\n",
       "      <td>...</td>\n",
       "      <td>...</td>\n",
       "      <td>...</td>\n",
       "      <td>...</td>\n",
       "      <td>...</td>\n",
       "      <td>...</td>\n",
       "    </tr>\n",
       "    <tr>\n",
       "      <th>268</th>\n",
       "      <td>2022-10-27</td>\n",
       "      <td>13.1457</td>\n",
       "      <td>-0.0162</td>\n",
       "      <td>2022-10-27</td>\n",
       "      <td>1</td>\n",
       "      <td>2022-10</td>\n",
       "      <td>13.145766</td>\n",
       "      <td>12.092083</td>\n",
       "      <td>11.777311</td>\n",
       "      <td>11.765923</td>\n",
       "      <td>...</td>\n",
       "      <td>-0.510397</td>\n",
       "      <td>-0.516258</td>\n",
       "      <td>-0.52138</td>\n",
       "      <td>-0.525881</td>\n",
       "      <td>-0.529858</td>\n",
       "      <td>-0.533391</td>\n",
       "      <td>-0.536548</td>\n",
       "      <td>-0.539385</td>\n",
       "      <td>-0.541951</td>\n",
       "      <td>0.078181</td>\n",
       "    </tr>\n",
       "    <tr>\n",
       "      <th>270</th>\n",
       "      <td>2022-12-08</td>\n",
       "      <td>13.7781</td>\n",
       "      <td>-0.0225</td>\n",
       "      <td>2022-12-08</td>\n",
       "      <td>1</td>\n",
       "      <td>2022-12</td>\n",
       "      <td>13.778129</td>\n",
       "      <td>13.217989</td>\n",
       "      <td>12.926772</td>\n",
       "      <td>12.846204</td>\n",
       "      <td>...</td>\n",
       "      <td>-0.510397</td>\n",
       "      <td>-0.516258</td>\n",
       "      <td>-0.52138</td>\n",
       "      <td>-0.525881</td>\n",
       "      <td>-0.529858</td>\n",
       "      <td>-0.533391</td>\n",
       "      <td>-0.536548</td>\n",
       "      <td>-0.539385</td>\n",
       "      <td>-0.541951</td>\n",
       "      <td>-0.105204</td>\n",
       "    </tr>\n",
       "    <tr>\n",
       "      <th>272</th>\n",
       "      <td>2023-02-02</td>\n",
       "      <td>13.5477</td>\n",
       "      <td>0.0871</td>\n",
       "      <td>2023-02-02</td>\n",
       "      <td>1</td>\n",
       "      <td>2023-02</td>\n",
       "      <td>13.547787</td>\n",
       "      <td>13.025719</td>\n",
       "      <td>12.892275</td>\n",
       "      <td>12.911291</td>\n",
       "      <td>...</td>\n",
       "      <td>-0.510397</td>\n",
       "      <td>-0.516258</td>\n",
       "      <td>-0.52138</td>\n",
       "      <td>-0.525881</td>\n",
       "      <td>-0.529858</td>\n",
       "      <td>-0.533391</td>\n",
       "      <td>-0.536548</td>\n",
       "      <td>-0.539385</td>\n",
       "      <td>-0.541951</td>\n",
       "      <td>0.153350</td>\n",
       "    </tr>\n",
       "    <tr>\n",
       "      <th>274</th>\n",
       "      <td>2023-03-23</td>\n",
       "      <td>12.8195</td>\n",
       "      <td>0.1450</td>\n",
       "      <td>2023-03-23</td>\n",
       "      <td>1</td>\n",
       "      <td>2023-03</td>\n",
       "      <td>12.819528</td>\n",
       "      <td>12.148630</td>\n",
       "      <td>12.286832</td>\n",
       "      <td>12.573268</td>\n",
       "      <td>...</td>\n",
       "      <td>-0.510397</td>\n",
       "      <td>-0.516258</td>\n",
       "      <td>-0.52138</td>\n",
       "      <td>-0.525881</td>\n",
       "      <td>-0.529858</td>\n",
       "      <td>-0.533391</td>\n",
       "      <td>-0.536548</td>\n",
       "      <td>-0.539385</td>\n",
       "      <td>-0.541951</td>\n",
       "      <td>-0.031656</td>\n",
       "    </tr>\n",
       "    <tr>\n",
       "      <th>276</th>\n",
       "      <td>2023-05-04</td>\n",
       "      <td>12.6881</td>\n",
       "      <td>0.0000</td>\n",
       "      <td>2023-05-04</td>\n",
       "      <td>1</td>\n",
       "      <td>2023-05</td>\n",
       "      <td>12.625217</td>\n",
       "      <td>11.643865</td>\n",
       "      <td>11.516161</td>\n",
       "      <td>11.641734</td>\n",
       "      <td>...</td>\n",
       "      <td>-0.510397</td>\n",
       "      <td>-0.516258</td>\n",
       "      <td>-0.52138</td>\n",
       "      <td>-0.525881</td>\n",
       "      <td>-0.529858</td>\n",
       "      <td>-0.533391</td>\n",
       "      <td>-0.536548</td>\n",
       "      <td>-0.539385</td>\n",
       "      <td>-0.541951</td>\n",
       "      <td>-0.069508</td>\n",
       "    </tr>\n",
       "  </tbody>\n",
       "</table>\n",
       "<p>139 rows × 99 columns</p>\n",
       "</div>"
      ],
      "text/plain": [
       "          date     DGS2   dgs_d COPOM_date  q    mdate    SVENY01    SVENY02  \\\n",
       "0   2006-01-19  16.0114 -0.1546 2006-01-19  1  2006-01  16.009385  15.484445   \n",
       "2   2006-03-09  15.1785 -0.0968 2006-03-09  1  2006-03  15.205391  14.847149   \n",
       "4   2006-04-20  14.7318  0.0817 2006-04-20  1  2006-04  14.725141  14.768773   \n",
       "6   2006-06-01  15.4108 -0.1473 2006-06-01  1  2006-06  15.483126  15.980536   \n",
       "8   2006-07-20  14.5070 -0.0238 2006-07-20  1  2006-07  14.551159  14.958297   \n",
       "..         ...      ...     ...        ... ..      ...        ...        ...   \n",
       "268 2022-10-27  13.1457 -0.0162 2022-10-27  1  2022-10  13.145766  12.092083   \n",
       "270 2022-12-08  13.7781 -0.0225 2022-12-08  1  2022-12  13.778129  13.217989   \n",
       "272 2023-02-02  13.5477  0.0871 2023-02-02  1  2023-02  13.547787  13.025719   \n",
       "274 2023-03-23  12.8195  0.1450 2023-03-23  1  2023-03  12.819528  12.148630   \n",
       "276 2023-05-04  12.6881  0.0000 2023-05-04  1  2023-05  12.625217  11.643865   \n",
       "\n",
       "       SVENY03    SVENY04  ...  beta_hat22  beta_hat23  beta_hat24  \\\n",
       "0    15.271040  15.173919  ...   -0.510397   -0.516258    -0.52138   \n",
       "2    14.644118  14.517668  ...   -0.510397   -0.516258    -0.52138   \n",
       "4    14.903226  14.990924  ...   -0.510397   -0.516258    -0.52138   \n",
       "6    16.197760  16.342153  ...   -0.510397   -0.516258    -0.52138   \n",
       "8    15.236822  15.443164  ...   -0.510397   -0.516258    -0.52138   \n",
       "..         ...        ...  ...         ...         ...         ...   \n",
       "268  11.777311  11.765923  ...   -0.510397   -0.516258    -0.52138   \n",
       "270  12.926772  12.846204  ...   -0.510397   -0.516258    -0.52138   \n",
       "272  12.892275  12.911291  ...   -0.510397   -0.516258    -0.52138   \n",
       "274  12.286832  12.573268  ...   -0.510397   -0.516258    -0.52138   \n",
       "276  11.516161  11.641734  ...   -0.510397   -0.516258    -0.52138   \n",
       "\n",
       "     beta_hat25  beta_hat26  beta_hat27  beta_hat28  beta_hat29  beta_hat30  \\\n",
       "0     -0.525881   -0.529858   -0.533391   -0.536548   -0.539385   -0.541951   \n",
       "2     -0.525881   -0.529858   -0.533391   -0.536548   -0.539385   -0.541951   \n",
       "4     -0.525881   -0.529858   -0.533391   -0.536548   -0.539385   -0.541951   \n",
       "6     -0.525881   -0.529858   -0.533391   -0.536548   -0.539385   -0.541951   \n",
       "8     -0.525881   -0.529858   -0.533391   -0.536548   -0.539385   -0.541951   \n",
       "..          ...         ...         ...         ...         ...         ...   \n",
       "268   -0.525881   -0.529858   -0.533391   -0.536548   -0.539385   -0.541951   \n",
       "270   -0.525881   -0.529858   -0.533391   -0.536548   -0.539385   -0.541951   \n",
       "272   -0.525881   -0.529858   -0.533391   -0.536548   -0.539385   -0.541951   \n",
       "274   -0.525881   -0.529858   -0.533391   -0.536548   -0.539385   -0.541951   \n",
       "276   -0.525881   -0.529858   -0.533391   -0.536548   -0.539385   -0.541951   \n",
       "\n",
       "     new_shock  \n",
       "0     0.109614  \n",
       "2    -0.051779  \n",
       "4     0.004412  \n",
       "6    -0.127731  \n",
       "8     0.007062  \n",
       "..         ...  \n",
       "268   0.078181  \n",
       "270  -0.105204  \n",
       "272   0.153350  \n",
       "274  -0.031656  \n",
       "276  -0.069508  \n",
       "\n",
       "[139 rows x 99 columns]"
      ]
     },
     "execution_count": 66,
     "metadata": {},
     "output_type": "execute_result"
    }
   ],
   "source": [
    "data_complete"
   ]
  },
  {
   "cell_type": "markdown",
   "id": "bf1e6ed8",
   "metadata": {},
   "source": [
    "### Renormalization"
   ]
  },
  {
   "cell_type": "code",
   "execution_count": 67,
   "id": "2622dacd",
   "metadata": {},
   "outputs": [],
   "source": [
    "renormalization = sm.OLS(data_complete[\"dgs_d\"], data_complete[\"new_shock\"])\n",
    "results_renormalization = renormalization.fit()\n",
    "beta_estimado = results_renormalization.params[\"new_shock\"]\n",
    "data_complete[\"BRW_daily\"]=data_complete[\"new_shock\"]*beta_estimado \n",
    "#print(results_renormalization.summary())\n"
   ]
  },
  {
   "cell_type": "code",
   "execution_count": 68,
   "id": "2b36211d",
   "metadata": {},
   "outputs": [
    {
     "name": "stdout",
     "output_type": "stream",
     "text": [
      "                                 OLS Regression Results                                \n",
      "=======================================================================================\n",
      "Dep. Variable:                  dgs_d   R-squared (uncentered):                   0.427\n",
      "Model:                            OLS   Adj. R-squared (uncentered):              0.423\n",
      "Method:                 Least Squares   F-statistic:                              103.0\n",
      "Date:                Wed, 20 Sep 2023   Prob (F-statistic):                    2.00e-18\n",
      "Time:                        08:58:28   Log-Likelihood:                          108.89\n",
      "No. Observations:                 139   AIC:                                     -215.8\n",
      "Df Residuals:                     138   BIC:                                     -212.8\n",
      "Df Model:                           1                                                  \n",
      "Covariance Type:            nonrobust                                                  \n",
      "==============================================================================\n",
      "                 coef    std err          t      P>|t|      [0.025      0.975]\n",
      "------------------------------------------------------------------------------\n",
      "BRW_daily      1.0000      0.099     10.150      0.000       0.805       1.195\n",
      "==============================================================================\n",
      "Omnibus:                       19.701   Durbin-Watson:                   1.858\n",
      "Prob(Omnibus):                  0.000   Jarque-Bera (JB):               36.260\n",
      "Skew:                           0.642   Prob(JB):                     1.34e-08\n",
      "Kurtosis:                       5.147   Cond. No.                         1.00\n",
      "==============================================================================\n",
      "\n",
      "Notes:\n",
      "[1] R² is computed without centering (uncentered) since the model does not contain a constant.\n",
      "[2] Standard Errors assume that the covariance matrix of the errors is correctly specified.\n"
     ]
    }
   ],
   "source": [
    "BRW_regression = sm.OLS(data_complete[\"dgs_d\"], data_complete[\"BRW_daily\"])\n",
    "results_BRW_regression = BRW_regression.fit()\n",
    "print(results_BRW_regression.summary())"
   ]
  },
  {
   "cell_type": "code",
   "execution_count": 69,
   "id": "f98c5af1",
   "metadata": {},
   "outputs": [
    {
     "name": "stdout",
     "output_type": "stream",
     "text": [
      "       mdate  BRW_daily\n",
      "0    2006-01   0.073583\n",
      "1    2006-02   0.000000\n",
      "2    2006-03  -0.034759\n",
      "3    2006-04   0.002962\n",
      "4    2006-05   0.000000\n",
      "..       ...        ...\n",
      "205  2023-02   0.102943\n",
      "206  2023-03  -0.021251\n",
      "207  2023-04   0.000000\n",
      "208  2023-05  -0.046660\n",
      "209  2023-06   0.000000\n",
      "\n",
      "[210 rows x 2 columns]\n"
     ]
    },
    {
     "name": "stderr",
     "output_type": "stream",
     "text": [
      "C:\\Users\\Alysson\\AppData\\Local\\Temp\\ipykernel_19888\\2375401341.py:16: SettingWithCopyWarning: \n",
      "A value is trying to be set on a copy of a slice from a DataFrame.\n",
      "Try using .loc[row_indexer,col_indexer] = value instead\n",
      "\n",
      "See the caveats in the documentation: https://pandas.pydata.org/pandas-docs/stable/user_guide/indexing.html#returning-a-view-versus-a-copy\n",
      "  columns['mdate'] = columns['mdate'].dt.strftime('%Y-%m')\n"
     ]
    }
   ],
   "source": [
    "# Definir a data de início e a data de término\n",
    "start_date = pd.to_datetime(\"2006-01-01\")\n",
    "end_date = pd.to_datetime(\"2023-06-30\")  # Especifique a data de término desejada\n",
    "\n",
    "# Criar um intervalo de datas mensais até a data de término\n",
    "date_range = pd.date_range(start=start_date, end=end_date, freq=\"M\")\n",
    "\n",
    "# Criar um DataFrame com a coluna de datas\n",
    "data_monthly = pd.DataFrame({'mdate': date_range})\n",
    "\n",
    "# Formatar as datas no estilo \"1994-02\"\n",
    "data_monthly['mdate'] = data_monthly['mdate'].dt.strftime('%Y-%m')\n",
    "\n",
    "columns = data_complete[['mdate', 'BRW_daily']]\n",
    "\n",
    "columns['mdate'] = columns['mdate'].dt.strftime('%Y-%m')\n",
    "data_monthly = data_monthly.merge(columns, on='mdate', how='left')\n",
    "data_monthly['BRW_daily'].fillna(0, inplace=True)\n",
    "\n",
    "\n",
    "# Imprimir as primeiras linhas do DataFrame\n",
    "print(data_monthly)\n"
   ]
  },
  {
   "cell_type": "code",
   "execution_count": 70,
   "id": "259b1f79",
   "metadata": {},
   "outputs": [
    {
     "data": {
      "image/png": "[encoded data removed]",
      "text/plain": [
       "<Figure size 1500x600 with 1 Axes>"
      ]
     },
     "metadata": {},
     "output_type": "display_data"
    }
   ],
   "source": [
    "# Converter valores do tipo Period para datetime\n",
    "mdate_values = data_monthly[\"mdate\"]\n",
    "new_shock_values = data_monthly[\"BRW_daily\"]\n",
    "\n",
    "# Criar um gráfico de linha\n",
    "plt.figure(figsize=(15, 6))\n",
    "plt.plot(mdate_values, new_shock_values)\n",
    "plt.title(\"BRW\")\n",
    "ax = plt.gca()\n",
    "ax.xaxis.set_major_locator(MaxNLocator(nbins=20))\n",
    "plt.xticks(rotation=45)\n",
    "plt.grid(False)\n",
    "plt.tight_layout()\n",
    "plt.show()"
   ]
  },
  {
   "cell_type": "code",
   "execution_count": 71,
   "id": "f1e9145c",
   "metadata": {},
   "outputs": [],
   "source": [
    "subset_data = data_monthly\n",
    "\n",
    "# Especifique o nome do arquivo Excel de saída\n",
    "output_file = \"data_subset.xlsx\"\n",
    "\n",
    "# Salve o DataFrame no arquivo Excel\n",
    "subset_data.to_excel(output_file, index=False)"
   ]
  },
  {
   "cell_type": "code",
   "execution_count": 72,
   "id": "3729306b",
   "metadata": {},
   "outputs": [
    {
     "data": {
      "image/png": "[encoded data removed]",
      "text/plain": [
       "<Figure size 1200x600 with 1 Axes>"
      ]
     },
     "metadata": {},
     "output_type": "display_data"
    }
   ],
   "source": [
    "\n",
    "# Seu código para criar os dados (mdate_values, new_shock_values) aqui\n",
    "\n",
    "# Configuração do estilo do gráfico\n",
    "plt.figure(figsize=(12, 6))\n",
    "plt.plot(mdate_values, new_shock_values, color='darkblue', linewidth=2, label='BRW')\n",
    "plt.title(\"Choque BRW - Brasil\")\n",
    "#plt.xlabel(\"Data\")\n",
    "#plt.ylabel(\"Valor do Choque\")\n",
    "plt.grid(True, linestyle='--', alpha=0.6)\n",
    "plt.legend(loc='upper left')\n",
    "\n",
    "# Personalização do eixo x\n",
    "ax = plt.gca()\n",
    "ax.xaxis.set_major_locator(MaxNLocator(nbins=12))\n",
    "plt.xticks(rotation=45)\n",
    "\n",
    "# Adicionando grade horizontal\n",
    "plt.axhline(0, color='gray', linestyle='--', linewidth=0.5)\n",
    "\n",
    "# Ajustando margens e espaçamento\n",
    "plt.tight_layout()\n",
    "\n",
    "# Exibindo o gráfico\n",
    "plt.show()\n"
   ]
  },
  {
   "cell_type": "code",
   "execution_count": null,
   "id": "7133b686",
   "metadata": {},
   "outputs": [],
   "source": []
  }
 ],
 "metadata": {
  "kernelspec": {
   "display_name": "Python 3 (ipykernel)",
   "language": "python",
   "name": "python3"
  },
  "language_info": {
   "codemirror_mode": {
    "name": "ipython",
    "version": 3
   },
   "file_extension": ".py",
   "mimetype": "text/x-python",
   "name": "python",
   "nbconvert_exporter": "python",
   "pygments_lexer": "ipython3",
   "version": "3.11.3"
  }
 },
 "nbformat": 4,
 "nbformat_minor": 5
}
