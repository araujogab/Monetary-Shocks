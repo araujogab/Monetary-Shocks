{
 "cells": [
  {
   "cell_type": "markdown",
   "id": "49b403fc",
   "metadata": {},
   "source": [
    "# BRW Estimation"
   ]
  },
  {
   "cell_type": "markdown",
   "id": "a9cb00b1",
   "metadata": {},
   "source": [
    "Replication code of the BRW shock by Bu, Wu, and Rogers (2021)."
   ]
  },
  {
   "cell_type": "code",
   "execution_count": 9,
   "id": "aa865154",
   "metadata": {},
   "outputs": [],
   "source": [
    "import pandas as pd\n",
    "\n",
    "maturity = 2\n",
    "year = 2020\n",
    "month = 12\n",
    "monthname = \"Dec\"\n",
    "MAR2020 = 0"
   ]
  },
  {
   "cell_type": "markdown",
   "id": "eda321c0",
   "metadata": {},
   "source": [
    "## 1. Calculating the difference of the 2-year Treasury series (DGS2)"
   ]
  },
  {
   "cell_type": "markdown",
   "id": "e11974f0",
   "metadata": {},
   "source": [
    "Load the data and rename columns"
   ]
  },
  {
   "cell_type": "code",
   "execution_count": 8,
   "id": "a4d1693a",
   "metadata": {},
   "outputs": [
    {
     "data": {
      "text/html": [
       "<div>\n",
       "<style scoped>\n",
       "    .dataframe tbody tr th:only-of-type {\n",
       "        vertical-align: middle;\n",
       "    }\n",
       "\n",
       "    .dataframe tbody tr th {\n",
       "        vertical-align: top;\n",
       "    }\n",
       "\n",
       "    .dataframe thead th {\n",
       "        text-align: right;\n",
       "    }\n",
       "</style>\n",
       "<table border=\"1\" class=\"dataframe\">\n",
       "  <thead>\n",
       "    <tr style=\"text-align: right;\">\n",
       "      <th></th>\n",
       "      <th>date</th>\n",
       "      <th>DGS2</th>\n",
       "    </tr>\n",
       "  </thead>\n",
       "  <tbody>\n",
       "    <tr>\n",
       "      <th>0</th>\n",
       "      <td>1994-01-03</td>\n",
       "      <td>4.30</td>\n",
       "    </tr>\n",
       "    <tr>\n",
       "      <th>1</th>\n",
       "      <td>1994-01-04</td>\n",
       "      <td>4.29</td>\n",
       "    </tr>\n",
       "    <tr>\n",
       "      <th>2</th>\n",
       "      <td>1994-01-05</td>\n",
       "      <td>4.31</td>\n",
       "    </tr>\n",
       "    <tr>\n",
       "      <th>3</th>\n",
       "      <td>1994-01-06</td>\n",
       "      <td>4.24</td>\n",
       "    </tr>\n",
       "    <tr>\n",
       "      <th>4</th>\n",
       "      <td>1994-01-07</td>\n",
       "      <td>4.09</td>\n",
       "    </tr>\n",
       "  </tbody>\n",
       "</table>\n",
       "</div>"
      ],
      "text/plain": [
       "        date  DGS2\n",
       "0 1994-01-03  4.30\n",
       "1 1994-01-04  4.29\n",
       "2 1994-01-05  4.31\n",
       "3 1994-01-06  4.24\n",
       "4 1994-01-07  4.09"
      ]
     },
     "execution_count": 8,
     "metadata": {},
     "output_type": "execute_result"
    }
   ],
   "source": [
    "data = pd.read_excel(r\"C:\\Users\\Alysson\\Documents\\GitHub\\Monetary-Shocks\\DGS2.xls\")\n",
    "data.rename(columns={\"observation_date\": \"date\"}, inplace=True)\n",
    "data.head()"
   ]
  },
  {
   "cell_type": "markdown",
   "id": "ec673dad",
   "metadata": {},
   "source": [
    "Convert date to datetime format and create additional date-related columns"
   ]
  },
  {
   "cell_type": "code",
   "execution_count": 10,
   "id": "7c27a66e",
   "metadata": {},
   "outputs": [],
   "source": [
    "data[\"date\"] = pd.to_datetime(data[\"date\"])\n",
    "data[\"year\"] = data[\"date\"].dt.year\n",
    "data[\"month\"] = data[\"date\"].dt.month\n",
    "data[\"day\"] = data[\"date\"].dt.day\n",
    "data[\"mdate\"] = data[\"date\"].dt.to_period(\"M\")"
   ]
  },
  {
   "cell_type": "markdown",
   "id": "072d43c8",
   "metadata": {},
   "source": [
    "Filter data for the specified period (up to September 2019 - Cut-off date used for the estimation in the research paper.)"
   ]
  },
  {
   "cell_type": "code",
   "execution_count": 17,
   "id": "fc240594",
   "metadata": {},
   "outputs": [],
   "source": [
    "data = data[data[\"mdate\"] <= pd.Period(\"2019-09\")]\n",
    "data = data[data[\"mdate\"] >= pd.Period(\"1994-01\")]"
   ]
  },
  {
   "cell_type": "markdown",
   "id": "9ac43827",
   "metadata": {},
   "source": [
    "Calculate the difference of the series (dgs_d)"
   ]
  },
  {
   "cell_type": "code",
   "execution_count": 18,
   "id": "649f0c27",
   "metadata": {},
   "outputs": [
    {
     "data": {
      "text/html": [
       "<div>\n",
       "<style scoped>\n",
       "    .dataframe tbody tr th:only-of-type {\n",
       "        vertical-align: middle;\n",
       "    }\n",
       "\n",
       "    .dataframe tbody tr th {\n",
       "        vertical-align: top;\n",
       "    }\n",
       "\n",
       "    .dataframe thead th {\n",
       "        text-align: right;\n",
       "    }\n",
       "</style>\n",
       "<table border=\"1\" class=\"dataframe\">\n",
       "  <thead>\n",
       "    <tr style=\"text-align: right;\">\n",
       "      <th></th>\n",
       "      <th>date</th>\n",
       "      <th>DGS2</th>\n",
       "      <th>year</th>\n",
       "      <th>month</th>\n",
       "      <th>day</th>\n",
       "      <th>mdate</th>\n",
       "      <th>dgs_d</th>\n",
       "    </tr>\n",
       "  </thead>\n",
       "  <tbody>\n",
       "    <tr>\n",
       "      <th>0</th>\n",
       "      <td>1994-01-03</td>\n",
       "      <td>4.30</td>\n",
       "      <td>1994</td>\n",
       "      <td>1</td>\n",
       "      <td>3</td>\n",
       "      <td>1994-01</td>\n",
       "      <td>NaN</td>\n",
       "    </tr>\n",
       "    <tr>\n",
       "      <th>1</th>\n",
       "      <td>1994-01-04</td>\n",
       "      <td>4.29</td>\n",
       "      <td>1994</td>\n",
       "      <td>1</td>\n",
       "      <td>4</td>\n",
       "      <td>1994-01</td>\n",
       "      <td>-0.01</td>\n",
       "    </tr>\n",
       "    <tr>\n",
       "      <th>2</th>\n",
       "      <td>1994-01-05</td>\n",
       "      <td>4.31</td>\n",
       "      <td>1994</td>\n",
       "      <td>1</td>\n",
       "      <td>5</td>\n",
       "      <td>1994-01</td>\n",
       "      <td>0.02</td>\n",
       "    </tr>\n",
       "    <tr>\n",
       "      <th>3</th>\n",
       "      <td>1994-01-06</td>\n",
       "      <td>4.24</td>\n",
       "      <td>1994</td>\n",
       "      <td>1</td>\n",
       "      <td>6</td>\n",
       "      <td>1994-01</td>\n",
       "      <td>-0.07</td>\n",
       "    </tr>\n",
       "    <tr>\n",
       "      <th>4</th>\n",
       "      <td>1994-01-07</td>\n",
       "      <td>4.09</td>\n",
       "      <td>1994</td>\n",
       "      <td>1</td>\n",
       "      <td>7</td>\n",
       "      <td>1994-01</td>\n",
       "      <td>-0.15</td>\n",
       "    </tr>\n",
       "  </tbody>\n",
       "</table>\n",
       "</div>"
      ],
      "text/plain": [
       "        date  DGS2  year  month  day    mdate  dgs_d\n",
       "0 1994-01-03  4.30  1994      1    3  1994-01    NaN\n",
       "1 1994-01-04  4.29  1994      1    4  1994-01  -0.01\n",
       "2 1994-01-05  4.31  1994      1    5  1994-01   0.02\n",
       "3 1994-01-06  4.24  1994      1    6  1994-01  -0.07\n",
       "4 1994-01-07  4.09  1994      1    7  1994-01  -0.15"
      ]
     },
     "execution_count": 18,
     "metadata": {},
     "output_type": "execute_result"
    }
   ],
   "source": [
    "data[\"dgs_d\"] = data[\"DGS\" + str(maturity)] - data[\"DGS\" + str(maturity)].shift(1)\n",
    "data.head()"
   ]
  },
  {
   "cell_type": "markdown",
   "id": "960e5a23",
   "metadata": {},
   "source": [
    "Set \"mdate\" as the index and convert it to a time series"
   ]
  },
  {
   "cell_type": "code",
   "execution_count": 19,
   "id": "99d59cdd",
   "metadata": {},
   "outputs": [],
   "source": [
    "data.set_index(\"mdate\", inplace=True)\n",
    "data.index = pd.to_datetime(data.index.to_timestamp())"
   ]
  },
  {
   "cell_type": "markdown",
   "id": "a0ef3f78",
   "metadata": {},
   "source": [
    "Drop unnecessary columns"
   ]
  },
  {
   "cell_type": "code",
   "execution_count": 20,
   "id": "e02180ba",
   "metadata": {},
   "outputs": [
    {
     "data": {
      "text/html": [
       "<div>\n",
       "<style scoped>\n",
       "    .dataframe tbody tr th:only-of-type {\n",
       "        vertical-align: middle;\n",
       "    }\n",
       "\n",
       "    .dataframe tbody tr th {\n",
       "        vertical-align: top;\n",
       "    }\n",
       "\n",
       "    .dataframe thead th {\n",
       "        text-align: right;\n",
       "    }\n",
       "</style>\n",
       "<table border=\"1\" class=\"dataframe\">\n",
       "  <thead>\n",
       "    <tr style=\"text-align: right;\">\n",
       "      <th></th>\n",
       "      <th>date</th>\n",
       "      <th>DGS2</th>\n",
       "      <th>dgs_d</th>\n",
       "    </tr>\n",
       "    <tr>\n",
       "      <th>mdate</th>\n",
       "      <th></th>\n",
       "      <th></th>\n",
       "      <th></th>\n",
       "    </tr>\n",
       "  </thead>\n",
       "  <tbody>\n",
       "    <tr>\n",
       "      <th>1994-01-01</th>\n",
       "      <td>1994-01-03</td>\n",
       "      <td>4.30</td>\n",
       "      <td>NaN</td>\n",
       "    </tr>\n",
       "    <tr>\n",
       "      <th>1994-01-01</th>\n",
       "      <td>1994-01-04</td>\n",
       "      <td>4.29</td>\n",
       "      <td>-0.01</td>\n",
       "    </tr>\n",
       "    <tr>\n",
       "      <th>1994-01-01</th>\n",
       "      <td>1994-01-05</td>\n",
       "      <td>4.31</td>\n",
       "      <td>0.02</td>\n",
       "    </tr>\n",
       "    <tr>\n",
       "      <th>1994-01-01</th>\n",
       "      <td>1994-01-06</td>\n",
       "      <td>4.24</td>\n",
       "      <td>-0.07</td>\n",
       "    </tr>\n",
       "    <tr>\n",
       "      <th>1994-01-01</th>\n",
       "      <td>1994-01-07</td>\n",
       "      <td>4.09</td>\n",
       "      <td>-0.15</td>\n",
       "    </tr>\n",
       "  </tbody>\n",
       "</table>\n",
       "</div>"
      ],
      "text/plain": [
       "                 date  DGS2  dgs_d\n",
       "mdate                             \n",
       "1994-01-01 1994-01-03  4.30    NaN\n",
       "1994-01-01 1994-01-04  4.29  -0.01\n",
       "1994-01-01 1994-01-05  4.31   0.02\n",
       "1994-01-01 1994-01-06  4.24  -0.07\n",
       "1994-01-01 1994-01-07  4.09  -0.15"
      ]
     },
     "execution_count": 20,
     "metadata": {},
     "output_type": "execute_result"
    }
   ],
   "source": [
    "data.drop(columns=[\"year\", \"month\", \"day\"], inplace=True)\n",
    "data.head()"
   ]
  },
  {
   "cell_type": "markdown",
   "id": "efd7599a",
   "metadata": {},
   "source": [
    "Save the resulting DataFrame to a new file"
   ]
  },
  {
   "cell_type": "code",
   "execution_count": 21,
   "id": "e1cfba62",
   "metadata": {},
   "outputs": [],
   "source": [
    "data.to_pickle(\"temp.pkl\")"
   ]
  },
  {
   "cell_type": "markdown",
   "id": "76f5167a",
   "metadata": {},
   "source": [
    "## 2. Adding FOMC dates"
   ]
  },
  {
   "cell_type": "markdown",
   "id": "d8a28c2f",
   "metadata": {},
   "source": [
    "Load the FOMC dates from the Excel file"
   ]
  },
  {
   "cell_type": "code",
   "execution_count": 31,
   "id": "f9161059",
   "metadata": {},
   "outputs": [
    {
     "data": {
      "text/html": [
       "<div>\n",
       "<style scoped>\n",
       "    .dataframe tbody tr th:only-of-type {\n",
       "        vertical-align: middle;\n",
       "    }\n",
       "\n",
       "    .dataframe tbody tr th {\n",
       "        vertical-align: top;\n",
       "    }\n",
       "\n",
       "    .dataframe thead th {\n",
       "        text-align: right;\n",
       "    }\n",
       "</style>\n",
       "<table border=\"1\" class=\"dataframe\">\n",
       "  <thead>\n",
       "    <tr style=\"text-align: right;\">\n",
       "      <th></th>\n",
       "      <th>FOMC_date</th>\n",
       "      <th>q</th>\n",
       "    </tr>\n",
       "  </thead>\n",
       "  <tbody>\n",
       "    <tr>\n",
       "      <th>0</th>\n",
       "      <td>1936-03-19</td>\n",
       "      <td>1</td>\n",
       "    </tr>\n",
       "    <tr>\n",
       "      <th>1</th>\n",
       "      <td>1936-05-25</td>\n",
       "      <td>1</td>\n",
       "    </tr>\n",
       "    <tr>\n",
       "      <th>2</th>\n",
       "      <td>1936-11-20</td>\n",
       "      <td>1</td>\n",
       "    </tr>\n",
       "    <tr>\n",
       "      <th>3</th>\n",
       "      <td>1937-01-26</td>\n",
       "      <td>1</td>\n",
       "    </tr>\n",
       "    <tr>\n",
       "      <th>4</th>\n",
       "      <td>1937-03-15</td>\n",
       "      <td>1</td>\n",
       "    </tr>\n",
       "  </tbody>\n",
       "</table>\n",
       "</div>"
      ],
      "text/plain": [
       "   FOMC_date  q\n",
       "0 1936-03-19  1\n",
       "1 1936-05-25  1\n",
       "2 1936-11-20  1\n",
       "3 1937-01-26  1\n",
       "4 1937-03-15  1"
      ]
     },
     "execution_count": 31,
     "metadata": {},
     "output_type": "execute_result"
    }
   ],
   "source": [
    "fomc_dates = pd.read_excel(\"C:/Users/Alysson/Documents/GitHub/Monetary-Shocks/FOMCdate.xlsx\")\n",
    "fomc_dates.rename(columns={\"date\": \"FOMC_date\"}, inplace=True)\n",
    "fomc_dates.head()"
   ]
  },
  {
   "cell_type": "markdown",
   "id": "ba7284b9",
   "metadata": {},
   "source": [
    "Convert date to datetime format and create additional date-related columns"
   ]
  },
  {
   "cell_type": "code",
   "execution_count": 32,
   "id": "a6fa6932",
   "metadata": {},
   "outputs": [],
   "source": [
    "fomc_dates[\"FOMC_date\"] = pd.to_datetime(fomc_dates[\"FOMC_date\"])\n",
    "fomc_dates[\"year\"] = fomc_dates[\"FOMC_date\"].dt.year\n",
    "fomc_dates[\"month\"] = fomc_dates[\"FOMC_date\"].dt.month\n",
    "fomc_dates[\"day\"] = fomc_dates[\"FOMC_date\"].dt.day\n",
    "fomc_dates[\"mdate\"] = fomc_dates[\"FOMC_date\"].dt.to_period(\"M\")\n",
    "\n",
    "MAR2020 = 0\n",
    "\n",
    "if MAR2020 == 0:\n",
    "    fomc_dates = fomc_dates[~((fomc_dates[\"year\"] == 2020) & (fomc_dates[\"month\"] == 3) & (fomc_dates[\"day\"] == 15))]\n"
   ]
  },
  {
   "cell_type": "markdown",
   "id": "a6720272",
   "metadata": {},
   "source": [
    "Drop unnecessary columns"
   ]
  },
  {
   "cell_type": "code",
   "execution_count": 33,
   "id": "307a730d",
   "metadata": {},
   "outputs": [],
   "source": [
    "fomc_dates.drop(columns=[\"year\", \"month\", \"day\"], inplace=True)"
   ]
  },
  {
   "cell_type": "markdown",
   "id": "6dd41369",
   "metadata": {},
   "source": [
    "Load the previous DataFrame \"temp.dta\" "
   ]
  },
  {
   "cell_type": "code",
   "execution_count": 34,
   "id": "57b10b28",
   "metadata": {},
   "outputs": [],
   "source": [
    "temp_data = pd.read_pickle(\"temp.pkl\")"
   ]
  },
  {
   "cell_type": "markdown",
   "id": "8c91d88c",
   "metadata": {},
   "source": [
    "Merge the two DataFrames on the 'date' column"
   ]
  },
  {
   "cell_type": "code",
   "execution_count": 35,
   "id": "13212cb0",
   "metadata": {},
   "outputs": [],
   "source": [
    "merged_data = pd.merge(temp_data, fomc_dates, how=\"inner\", left_on=\"date\", right_on=\"FOMC_date\")"
   ]
  },
  {
   "cell_type": "markdown",
   "id": "c9e9a6c3",
   "metadata": {},
   "source": [
    "Drop rows where 'q' is missing (denoted as NaN)"
   ]
  },
  {
   "cell_type": "code",
   "execution_count": 36,
   "id": "812aa7fa",
   "metadata": {},
   "outputs": [],
   "source": [
    "merged_data = merged_data.dropna(subset=[\"q\"])"
   ]
  },
  {
   "cell_type": "markdown",
   "id": "9d203c02",
   "metadata": {},
   "source": [
    "Replace missing values (NaN) in 'q' with 0"
   ]
  },
  {
   "cell_type": "code",
   "execution_count": 42,
   "id": "60200c90",
   "metadata": {},
   "outputs": [
    {
     "data": {
      "text/html": [
       "<div>\n",
       "<style scoped>\n",
       "    .dataframe tbody tr th:only-of-type {\n",
       "        vertical-align: middle;\n",
       "    }\n",
       "\n",
       "    .dataframe tbody tr th {\n",
       "        vertical-align: top;\n",
       "    }\n",
       "\n",
       "    .dataframe thead th {\n",
       "        text-align: right;\n",
       "    }\n",
       "</style>\n",
       "<table border=\"1\" class=\"dataframe\">\n",
       "  <thead>\n",
       "    <tr style=\"text-align: right;\">\n",
       "      <th></th>\n",
       "      <th>date</th>\n",
       "      <th>DGS2</th>\n",
       "      <th>dgs_d</th>\n",
       "      <th>FOMC_date</th>\n",
       "      <th>q</th>\n",
       "      <th>mdate</th>\n",
       "    </tr>\n",
       "  </thead>\n",
       "  <tbody>\n",
       "    <tr>\n",
       "      <th>0</th>\n",
       "      <td>1994-02-04</td>\n",
       "      <td>4.42</td>\n",
       "      <td>0.14</td>\n",
       "      <td>1994-02-04</td>\n",
       "      <td>1</td>\n",
       "      <td>1994-02</td>\n",
       "    </tr>\n",
       "    <tr>\n",
       "      <th>1</th>\n",
       "      <td>1994-02-11</td>\n",
       "      <td>4.44</td>\n",
       "      <td>-0.01</td>\n",
       "      <td>1994-02-11</td>\n",
       "      <td>0</td>\n",
       "      <td>1994-02</td>\n",
       "    </tr>\n",
       "    <tr>\n",
       "      <th>2</th>\n",
       "      <td>1994-03-22</td>\n",
       "      <td>5.03</td>\n",
       "      <td>-0.06</td>\n",
       "      <td>1994-03-22</td>\n",
       "      <td>1</td>\n",
       "      <td>1994-03</td>\n",
       "    </tr>\n",
       "    <tr>\n",
       "      <th>3</th>\n",
       "      <td>1994-03-29</td>\n",
       "      <td>5.19</td>\n",
       "      <td>0.07</td>\n",
       "      <td>1994-03-29</td>\n",
       "      <td>0</td>\n",
       "      <td>1994-03</td>\n",
       "    </tr>\n",
       "    <tr>\n",
       "      <th>4</th>\n",
       "      <td>1994-05-17</td>\n",
       "      <td>5.88</td>\n",
       "      <td>-0.15</td>\n",
       "      <td>1994-05-17</td>\n",
       "      <td>1</td>\n",
       "      <td>1994-05</td>\n",
       "    </tr>\n",
       "  </tbody>\n",
       "</table>\n",
       "</div>"
      ],
      "text/plain": [
       "        date  DGS2  dgs_d  FOMC_date  q    mdate\n",
       "0 1994-02-04  4.42   0.14 1994-02-04  1  1994-02\n",
       "1 1994-02-11  4.44  -0.01 1994-02-11  0  1994-02\n",
       "2 1994-03-22  5.03  -0.06 1994-03-22  1  1994-03\n",
       "3 1994-03-29  5.19   0.07 1994-03-29  0  1994-03\n",
       "4 1994-05-17  5.88  -0.15 1994-05-17  1  1994-05"
      ]
     },
     "execution_count": 42,
     "metadata": {},
     "output_type": "execute_result"
    }
   ],
   "source": [
    "merged_data[\"q\"].fillna(0, inplace=True)\n",
    "merged_data.head()"
   ]
  },
  {
   "cell_type": "markdown",
   "id": "93d255b9",
   "metadata": {},
   "source": [
    "Save the merged DataFrame to a new file"
   ]
  },
  {
   "cell_type": "code",
   "execution_count": 40,
   "id": "4eb7e644",
   "metadata": {},
   "outputs": [],
   "source": [
    "merged_data.to_pickle(\"temp.pkl\")"
   ]
  },
  {
   "cell_type": "markdown",
   "id": "e11aa74e",
   "metadata": {},
   "source": [
    "## 3. Estimation"
   ]
  },
  {
   "cell_type": "markdown",
   "id": "3231dcb3",
   "metadata": {},
   "source": [
    "Load the data from \"feds200628.csv\" "
   ]
  },
  {
   "cell_type": "code",
   "execution_count": 82,
   "id": "1c118168",
   "metadata": {},
   "outputs": [],
   "source": [
    "yield_data = pd.read_csv(r\"C:\\Users\\Alysson\\Documents\\GitHub\\Monetary-Shocks\\feds200628.csv\")"
   ]
  },
  {
   "cell_type": "markdown",
   "id": "6138a827",
   "metadata": {},
   "source": [
    "Convert 'date' column to datetime format and keeping only necessary columns"
   ]
  },
  {
   "cell_type": "code",
   "execution_count": 83,
   "id": "a5937ca9",
   "metadata": {},
   "outputs": [],
   "source": [
    "yield_data['date'] = pd.to_datetime(yield_data['Date'], format='%Y-%m-%d')"
   ]
  },
  {
   "cell_type": "code",
   "execution_count": 84,
   "id": "37aaa05a",
   "metadata": {},
   "outputs": [
    {
     "data": {
      "text/html": [
       "<div>\n",
       "<style scoped>\n",
       "    .dataframe tbody tr th:only-of-type {\n",
       "        vertical-align: middle;\n",
       "    }\n",
       "\n",
       "    .dataframe tbody tr th {\n",
       "        vertical-align: top;\n",
       "    }\n",
       "\n",
       "    .dataframe thead th {\n",
       "        text-align: right;\n",
       "    }\n",
       "</style>\n",
       "<table border=\"1\" class=\"dataframe\">\n",
       "  <thead>\n",
       "    <tr style=\"text-align: right;\">\n",
       "      <th></th>\n",
       "      <th>date</th>\n",
       "      <th>mdate</th>\n",
       "      <th>SVENY01</th>\n",
       "      <th>SVENY02</th>\n",
       "      <th>SVENY03</th>\n",
       "      <th>SVENY04</th>\n",
       "      <th>SVENY05</th>\n",
       "      <th>SVENY06</th>\n",
       "      <th>SVENY07</th>\n",
       "      <th>SVENY08</th>\n",
       "      <th>...</th>\n",
       "      <th>SVENY21</th>\n",
       "      <th>SVENY22</th>\n",
       "      <th>SVENY23</th>\n",
       "      <th>SVENY24</th>\n",
       "      <th>SVENY25</th>\n",
       "      <th>SVENY26</th>\n",
       "      <th>SVENY27</th>\n",
       "      <th>SVENY28</th>\n",
       "      <th>SVENY29</th>\n",
       "      <th>SVENY30</th>\n",
       "    </tr>\n",
       "  </thead>\n",
       "  <tbody>\n",
       "    <tr>\n",
       "      <th>8493</th>\n",
       "      <td>1994-01-03</td>\n",
       "      <td>1994-01</td>\n",
       "      <td>3.731411</td>\n",
       "      <td>4.260040</td>\n",
       "      <td>4.682096</td>\n",
       "      <td>5.024778</td>\n",
       "      <td>5.306916</td>\n",
       "      <td>5.541907</td>\n",
       "      <td>5.739533</td>\n",
       "      <td>5.907118</td>\n",
       "      <td>...</td>\n",
       "      <td>6.848436</td>\n",
       "      <td>6.878646</td>\n",
       "      <td>6.906286</td>\n",
       "      <td>6.931662</td>\n",
       "      <td>6.955033</td>\n",
       "      <td>6.976625</td>\n",
       "      <td>6.996629</td>\n",
       "      <td>7.015213</td>\n",
       "      <td>7.032521</td>\n",
       "      <td>7.048678</td>\n",
       "    </tr>\n",
       "    <tr>\n",
       "      <th>8494</th>\n",
       "      <td>1994-01-04</td>\n",
       "      <td>1994-01</td>\n",
       "      <td>3.713510</td>\n",
       "      <td>4.239907</td>\n",
       "      <td>4.656361</td>\n",
       "      <td>4.992733</td>\n",
       "      <td>5.269173</td>\n",
       "      <td>5.499619</td>\n",
       "      <td>5.693969</td>\n",
       "      <td>5.859453</td>\n",
       "      <td>...</td>\n",
       "      <td>6.810627</td>\n",
       "      <td>6.841833</td>\n",
       "      <td>6.870407</td>\n",
       "      <td>6.896656</td>\n",
       "      <td>6.920843</td>\n",
       "      <td>6.943197</td>\n",
       "      <td>6.963913</td>\n",
       "      <td>6.983162</td>\n",
       "      <td>7.001092</td>\n",
       "      <td>7.017833</td>\n",
       "    </tr>\n",
       "    <tr>\n",
       "      <th>8495</th>\n",
       "      <td>1994-01-05</td>\n",
       "      <td>1994-01</td>\n",
       "      <td>3.705392</td>\n",
       "      <td>4.248564</td>\n",
       "      <td>4.671605</td>\n",
       "      <td>5.010070</td>\n",
       "      <td>5.286970</td>\n",
       "      <td>5.517565</td>\n",
       "      <td>5.712289</td>\n",
       "      <td>5.878515</td>\n",
       "      <td>...</td>\n",
       "      <td>6.846719</td>\n",
       "      <td>6.878791</td>\n",
       "      <td>6.908162</td>\n",
       "      <td>6.935146</td>\n",
       "      <td>6.960013</td>\n",
       "      <td>6.982997</td>\n",
       "      <td>7.004297</td>\n",
       "      <td>7.024090</td>\n",
       "      <td>7.042527</td>\n",
       "      <td>7.059742</td>\n",
       "    </tr>\n",
       "    <tr>\n",
       "      <th>8496</th>\n",
       "      <td>1994-01-06</td>\n",
       "      <td>1994-01</td>\n",
       "      <td>3.668817</td>\n",
       "      <td>4.193361</td>\n",
       "      <td>4.607845</td>\n",
       "      <td>4.943227</td>\n",
       "      <td>5.219876</td>\n",
       "      <td>5.451570</td>\n",
       "      <td>5.647936</td>\n",
       "      <td>5.815925</td>\n",
       "      <td>...</td>\n",
       "      <td>6.794964</td>\n",
       "      <td>6.827326</td>\n",
       "      <td>6.856961</td>\n",
       "      <td>6.884186</td>\n",
       "      <td>6.909274</td>\n",
       "      <td>6.932459</td>\n",
       "      <td>6.953947</td>\n",
       "      <td>6.973913</td>\n",
       "      <td>6.992512</td>\n",
       "      <td>7.009876</td>\n",
       "    </tr>\n",
       "    <tr>\n",
       "      <th>8497</th>\n",
       "      <td>1994-01-07</td>\n",
       "      <td>1994-01</td>\n",
       "      <td>3.571147</td>\n",
       "      <td>4.060404</td>\n",
       "      <td>4.454530</td>\n",
       "      <td>4.779420</td>\n",
       "      <td>5.051982</td>\n",
       "      <td>5.283647</td>\n",
       "      <td>5.482460</td>\n",
       "      <td>5.654320</td>\n",
       "      <td>...</td>\n",
       "      <td>6.682563</td>\n",
       "      <td>6.717051</td>\n",
       "      <td>6.748641</td>\n",
       "      <td>6.777669</td>\n",
       "      <td>6.804423</td>\n",
       "      <td>6.829152</td>\n",
       "      <td>6.852073</td>\n",
       "      <td>6.873372</td>\n",
       "      <td>6.893213</td>\n",
       "      <td>6.911738</td>\n",
       "    </tr>\n",
       "  </tbody>\n",
       "</table>\n",
       "<p>5 rows × 32 columns</p>\n",
       "</div>"
      ],
      "text/plain": [
       "           date    mdate   SVENY01   SVENY02   SVENY03   SVENY04   SVENY05  \\\n",
       "8493 1994-01-03  1994-01  3.731411  4.260040  4.682096  5.024778  5.306916   \n",
       "8494 1994-01-04  1994-01  3.713510  4.239907  4.656361  4.992733  5.269173   \n",
       "8495 1994-01-05  1994-01  3.705392  4.248564  4.671605  5.010070  5.286970   \n",
       "8496 1994-01-06  1994-01  3.668817  4.193361  4.607845  4.943227  5.219876   \n",
       "8497 1994-01-07  1994-01  3.571147  4.060404  4.454530  4.779420  5.051982   \n",
       "\n",
       "       SVENY06   SVENY07   SVENY08  ...   SVENY21   SVENY22   SVENY23  \\\n",
       "8493  5.541907  5.739533  5.907118  ...  6.848436  6.878646  6.906286   \n",
       "8494  5.499619  5.693969  5.859453  ...  6.810627  6.841833  6.870407   \n",
       "8495  5.517565  5.712289  5.878515  ...  6.846719  6.878791  6.908162   \n",
       "8496  5.451570  5.647936  5.815925  ...  6.794964  6.827326  6.856961   \n",
       "8497  5.283647  5.482460  5.654320  ...  6.682563  6.717051  6.748641   \n",
       "\n",
       "       SVENY24   SVENY25   SVENY26   SVENY27   SVENY28   SVENY29   SVENY30  \n",
       "8493  6.931662  6.955033  6.976625  6.996629  7.015213  7.032521  7.048678  \n",
       "8494  6.896656  6.920843  6.943197  6.963913  6.983162  7.001092  7.017833  \n",
       "8495  6.935146  6.960013  6.982997  7.004297  7.024090  7.042527  7.059742  \n",
       "8496  6.884186  6.909274  6.932459  6.953947  6.973913  6.992512  7.009876  \n",
       "8497  6.777669  6.804423  6.829152  6.852073  6.873372  6.893213  6.911738  \n",
       "\n",
       "[5 rows x 32 columns]"
      ]
     },
     "execution_count": 84,
     "metadata": {},
     "output_type": "execute_result"
    }
   ],
   "source": [
    "yield_data['year'] = yield_data['date'].dt.year\n",
    "yield_data['month'] = yield_data['date'].dt.month\n",
    "yield_data['day'] = yield_data['date'].dt.day\n",
    "yield_data['date'] = pd.to_datetime(yield_data[['year', 'month', 'day']])\n",
    "yield_data['mdate'] = yield_data['date'].dt.to_period('M')\n",
    "yield_data = yield_data[['date', 'mdate'] + [col for col in yield_data.columns if col.startswith('SVENY')]]\n",
    "yield_data = yield_data[yield_data['mdate'] >= pd.Period('1994-01')]\n",
    "yield_data.head()"
   ]
  },
  {
   "cell_type": "markdown",
   "id": "c2af8a00",
   "metadata": {},
   "source": [
    "Create a list for all maturities of the treasuries"
   ]
  },
  {
   "cell_type": "code",
   "execution_count": 85,
   "id": "83b9c180",
   "metadata": {},
   "outputs": [
    {
     "name": "stdout",
     "output_type": "stream",
     "text": [
      "['01', '02', '03', '04', '05', '06', '07', '08', '09', '10', '11', '12', '13', '14', '15', '16', '17', '18', '19', '20', '21', '22', '23', '24', '25', '26', '27', '28', '29', '30']\n"
     ]
    }
   ],
   "source": [
    "list_maturities = [f\"{num:02}\" for num in range(1, 31)]\n",
    "print(list_maturities)"
   ]
  },
  {
   "cell_type": "markdown",
   "id": "2c65fc61",
   "metadata": {},
   "source": [
    "Calculate differences for each maturity"
   ]
  },
  {
   "cell_type": "code",
   "execution_count": null,
   "id": "9378156a",
   "metadata": {},
   "outputs": [],
   "source": []
  },
  {
   "cell_type": "markdown",
   "id": "cf5a1d84",
   "metadata": {},
   "source": [
    "Create aligned_dgs_d column"
   ]
  },
  {
   "cell_type": "code",
   "execution_count": null,
   "id": "6d85b348",
   "metadata": {},
   "outputs": [],
   "source": []
  },
  {
   "cell_type": "code",
   "execution_count": null,
   "id": "45ac1f9d",
   "metadata": {},
   "outputs": [],
   "source": []
  }
 ],
 "metadata": {
  "kernelspec": {
   "display_name": "Python 3 (ipykernel)",
   "language": "python",
   "name": "python3"
  },
  "language_info": {
   "codemirror_mode": {
    "name": "ipython",
    "version": 3
   },
   "file_extension": ".py",
   "mimetype": "text/x-python",
   "name": "python",
   "nbconvert_exporter": "python",
   "pygments_lexer": "ipython3",
   "version": "3.11.3"
  }
 },
 "nbformat": 4,
 "nbformat_minor": 5
}
