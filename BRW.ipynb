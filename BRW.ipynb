{
 "cells": [
  {
   "cell_type": "markdown",
   "id": "9be7936e",
   "metadata": {},
   "source": [
    "# BRW Estimation"
   ]
  },
  {
   "cell_type": "markdown",
   "id": "1826d133",
   "metadata": {},
   "source": [
    "Replication code of the BRW shock by Bu, Wu, and Rogers (2021)."
   ]
  },
  {
   "cell_type": "code",
   "execution_count": 9,
   "id": "86454701",
   "metadata": {},
   "outputs": [],
   "source": [
    "import pandas as pd\n",
    "\n",
    "maturity = 2\n",
    "year = 2020\n",
    "month = 12\n",
    "monthname = \"Dec\"\n",
    "MAR2020 = 0"
   ]
  },
  {
   "cell_type": "markdown",
   "id": "5e23fe44",
   "metadata": {},
   "source": [
    "## 1. Calculating the difference of the 2-year Treasury series (DGS2)"
   ]
  },
  {
   "cell_type": "markdown",
   "id": "2be2f9bd",
   "metadata": {},
   "source": [
    "Load the data and rename columns"
   ]
  },
  {
   "cell_type": "code",
   "execution_count": 8,
   "id": "6e02e0a1",
   "metadata": {},
   "outputs": [
    {
     "data": {
      "text/html": [
       "<div>\n",
       "<style scoped>\n",
       "    .dataframe tbody tr th:only-of-type {\n",
       "        vertical-align: middle;\n",
       "    }\n",
       "\n",
       "    .dataframe tbody tr th {\n",
       "        vertical-align: top;\n",
       "    }\n",
       "\n",
       "    .dataframe thead th {\n",
       "        text-align: right;\n",
       "    }\n",
       "</style>\n",
       "<table border=\"1\" class=\"dataframe\">\n",
       "  <thead>\n",
       "    <tr style=\"text-align: right;\">\n",
       "      <th></th>\n",
       "      <th>date</th>\n",
       "      <th>DGS2</th>\n",
       "    </tr>\n",
       "  </thead>\n",
       "  <tbody>\n",
       "    <tr>\n",
       "      <th>0</th>\n",
       "      <td>1994-01-03</td>\n",
       "      <td>4.30</td>\n",
       "    </tr>\n",
       "    <tr>\n",
       "      <th>1</th>\n",
       "      <td>1994-01-04</td>\n",
       "      <td>4.29</td>\n",
       "    </tr>\n",
       "    <tr>\n",
       "      <th>2</th>\n",
       "      <td>1994-01-05</td>\n",
       "      <td>4.31</td>\n",
       "    </tr>\n",
       "    <tr>\n",
       "      <th>3</th>\n",
       "      <td>1994-01-06</td>\n",
       "      <td>4.24</td>\n",
       "    </tr>\n",
       "    <tr>\n",
       "      <th>4</th>\n",
       "      <td>1994-01-07</td>\n",
       "      <td>4.09</td>\n",
       "    </tr>\n",
       "  </tbody>\n",
       "</table>\n",
       "</div>"
      ],
      "text/plain": [
       "        date  DGS2\n",
       "0 1994-01-03  4.30\n",
       "1 1994-01-04  4.29\n",
       "2 1994-01-05  4.31\n",
       "3 1994-01-06  4.24\n",
       "4 1994-01-07  4.09"
      ]
     },
     "execution_count": 8,
     "metadata": {},
     "output_type": "execute_result"
    }
   ],
   "source": [
    "data = pd.read_excel(r\"C:\\Users\\Alysson\\Documents\\GitHub\\Monetary-Shocks\\DGS2.xls\")\n",
    "data.rename(columns={\"observation_date\": \"date\"}, inplace=True)\n",
    "data.head()"
   ]
  },
  {
   "cell_type": "markdown",
   "id": "c5a85ad8",
   "metadata": {},
   "source": [
    "Convert date to datetime format and create additional date-related columns"
   ]
  },
  {
   "cell_type": "code",
   "execution_count": 10,
   "id": "9a59fc7d",
   "metadata": {},
   "outputs": [],
   "source": [
    "data[\"date\"] = pd.to_datetime(data[\"date\"])\n",
    "data[\"year\"] = data[\"date\"].dt.year\n",
    "data[\"month\"] = data[\"date\"].dt.month\n",
    "data[\"day\"] = data[\"date\"].dt.day\n",
    "data[\"mdate\"] = data[\"date\"].dt.to_period(\"M\")"
   ]
  },
  {
   "cell_type": "markdown",
   "id": "63b2e553",
   "metadata": {},
   "source": [
    "Filter data for the specified period (up to September 2019 - Cut-off date used for the estimation in the research paper.)"
   ]
  },
  {
   "cell_type": "code",
   "execution_count": 17,
   "id": "57214ecd",
   "metadata": {},
   "outputs": [],
   "source": [
    "data = data[data[\"mdate\"] <= pd.Period(\"2019-09\")]\n",
    "data = data[data[\"mdate\"] >= pd.Period(\"1994-01\")]"
   ]
  },
  {
   "cell_type": "markdown",
   "id": "d9606854",
   "metadata": {},
   "source": [
    "Calculate the difference of the series (dgs_d)"
   ]
  },
  {
   "cell_type": "code",
   "execution_count": 18,
   "id": "76293e92",
   "metadata": {},
   "outputs": [
    {
     "data": {
      "text/html": [
       "<div>\n",
       "<style scoped>\n",
       "    .dataframe tbody tr th:only-of-type {\n",
       "        vertical-align: middle;\n",
       "    }\n",
       "\n",
       "    .dataframe tbody tr th {\n",
       "        vertical-align: top;\n",
       "    }\n",
       "\n",
       "    .dataframe thead th {\n",
       "        text-align: right;\n",
       "    }\n",
       "</style>\n",
       "<table border=\"1\" class=\"dataframe\">\n",
       "  <thead>\n",
       "    <tr style=\"text-align: right;\">\n",
       "      <th></th>\n",
       "      <th>date</th>\n",
       "      <th>DGS2</th>\n",
       "      <th>year</th>\n",
       "      <th>month</th>\n",
       "      <th>day</th>\n",
       "      <th>mdate</th>\n",
       "      <th>dgs_d</th>\n",
       "    </tr>\n",
       "  </thead>\n",
       "  <tbody>\n",
       "    <tr>\n",
       "      <th>0</th>\n",
       "      <td>1994-01-03</td>\n",
       "      <td>4.30</td>\n",
       "      <td>1994</td>\n",
       "      <td>1</td>\n",
       "      <td>3</td>\n",
       "      <td>1994-01</td>\n",
       "      <td>NaN</td>\n",
       "    </tr>\n",
       "    <tr>\n",
       "      <th>1</th>\n",
       "      <td>1994-01-04</td>\n",
       "      <td>4.29</td>\n",
       "      <td>1994</td>\n",
       "      <td>1</td>\n",
       "      <td>4</td>\n",
       "      <td>1994-01</td>\n",
       "      <td>-0.01</td>\n",
       "    </tr>\n",
       "    <tr>\n",
       "      <th>2</th>\n",
       "      <td>1994-01-05</td>\n",
       "      <td>4.31</td>\n",
       "      <td>1994</td>\n",
       "      <td>1</td>\n",
       "      <td>5</td>\n",
       "      <td>1994-01</td>\n",
       "      <td>0.02</td>\n",
       "    </tr>\n",
       "    <tr>\n",
       "      <th>3</th>\n",
       "      <td>1994-01-06</td>\n",
       "      <td>4.24</td>\n",
       "      <td>1994</td>\n",
       "      <td>1</td>\n",
       "      <td>6</td>\n",
       "      <td>1994-01</td>\n",
       "      <td>-0.07</td>\n",
       "    </tr>\n",
       "    <tr>\n",
       "      <th>4</th>\n",
       "      <td>1994-01-07</td>\n",
       "      <td>4.09</td>\n",
       "      <td>1994</td>\n",
       "      <td>1</td>\n",
       "      <td>7</td>\n",
       "      <td>1994-01</td>\n",
       "      <td>-0.15</td>\n",
       "    </tr>\n",
       "  </tbody>\n",
       "</table>\n",
       "</div>"
      ],
      "text/plain": [
       "        date  DGS2  year  month  day    mdate  dgs_d\n",
       "0 1994-01-03  4.30  1994      1    3  1994-01    NaN\n",
       "1 1994-01-04  4.29  1994      1    4  1994-01  -0.01\n",
       "2 1994-01-05  4.31  1994      1    5  1994-01   0.02\n",
       "3 1994-01-06  4.24  1994      1    6  1994-01  -0.07\n",
       "4 1994-01-07  4.09  1994      1    7  1994-01  -0.15"
      ]
     },
     "execution_count": 18,
     "metadata": {},
     "output_type": "execute_result"
    }
   ],
   "source": [
    "data[\"dgs_d\"] = data[\"DGS\" + str(maturity)] - data[\"DGS\" + str(maturity)].shift(1)\n",
    "data.head()"
   ]
  },
  {
   "cell_type": "markdown",
   "id": "3bdb6791",
   "metadata": {},
   "source": [
    "Set \"mdate\" as the index and convert it to a time series"
   ]
  },
  {
   "cell_type": "code",
   "execution_count": 19,
   "id": "b5ec2709",
   "metadata": {},
   "outputs": [],
   "source": [
    "data.set_index(\"mdate\", inplace=True)\n",
    "data.index = pd.to_datetime(data.index.to_timestamp())"
   ]
  },
  {
   "cell_type": "markdown",
   "id": "da7c4a6a",
   "metadata": {},
   "source": [
    "Drop unnecessary columns"
   ]
  },
  {
   "cell_type": "code",
   "execution_count": 20,
   "id": "2169fbc9",
   "metadata": {},
   "outputs": [
    {
     "data": {
      "text/html": [
       "<div>\n",
       "<style scoped>\n",
       "    .dataframe tbody tr th:only-of-type {\n",
       "        vertical-align: middle;\n",
       "    }\n",
       "\n",
       "    .dataframe tbody tr th {\n",
       "        vertical-align: top;\n",
       "    }\n",
       "\n",
       "    .dataframe thead th {\n",
       "        text-align: right;\n",
       "    }\n",
       "</style>\n",
       "<table border=\"1\" class=\"dataframe\">\n",
       "  <thead>\n",
       "    <tr style=\"text-align: right;\">\n",
       "      <th></th>\n",
       "      <th>date</th>\n",
       "      <th>DGS2</th>\n",
       "      <th>dgs_d</th>\n",
       "    </tr>\n",
       "    <tr>\n",
       "      <th>mdate</th>\n",
       "      <th></th>\n",
       "      <th></th>\n",
       "      <th></th>\n",
       "    </tr>\n",
       "  </thead>\n",
       "  <tbody>\n",
       "    <tr>\n",
       "      <th>1994-01-01</th>\n",
       "      <td>1994-01-03</td>\n",
       "      <td>4.30</td>\n",
       "      <td>NaN</td>\n",
       "    </tr>\n",
       "    <tr>\n",
       "      <th>1994-01-01</th>\n",
       "      <td>1994-01-04</td>\n",
       "      <td>4.29</td>\n",
       "      <td>-0.01</td>\n",
       "    </tr>\n",
       "    <tr>\n",
       "      <th>1994-01-01</th>\n",
       "      <td>1994-01-05</td>\n",
       "      <td>4.31</td>\n",
       "      <td>0.02</td>\n",
       "    </tr>\n",
       "    <tr>\n",
       "      <th>1994-01-01</th>\n",
       "      <td>1994-01-06</td>\n",
       "      <td>4.24</td>\n",
       "      <td>-0.07</td>\n",
       "    </tr>\n",
       "    <tr>\n",
       "      <th>1994-01-01</th>\n",
       "      <td>1994-01-07</td>\n",
       "      <td>4.09</td>\n",
       "      <td>-0.15</td>\n",
       "    </tr>\n",
       "  </tbody>\n",
       "</table>\n",
       "</div>"
      ],
      "text/plain": [
       "                 date  DGS2  dgs_d\n",
       "mdate                             \n",
       "1994-01-01 1994-01-03  4.30    NaN\n",
       "1994-01-01 1994-01-04  4.29  -0.01\n",
       "1994-01-01 1994-01-05  4.31   0.02\n",
       "1994-01-01 1994-01-06  4.24  -0.07\n",
       "1994-01-01 1994-01-07  4.09  -0.15"
      ]
     },
     "execution_count": 20,
     "metadata": {},
     "output_type": "execute_result"
    }
   ],
   "source": [
    "data.drop(columns=[\"year\", \"month\", \"day\"], inplace=True)\n",
    "data.head()"
   ]
  },
  {
   "cell_type": "markdown",
   "id": "ab5a8a3f",
   "metadata": {},
   "source": [
    "Save the resulting DataFrame to a new file"
   ]
  },
  {
   "cell_type": "code",
   "execution_count": 21,
   "id": "c5ddf19f",
   "metadata": {},
   "outputs": [],
   "source": [
    "data.to_pickle(\"temp.pkl\")"
   ]
  },
  {
   "cell_type": "markdown",
   "id": "e6cc8249",
   "metadata": {},
   "source": [
    "## 2. Adding FOMC dates"
   ]
  },
  {
   "cell_type": "markdown",
   "id": "74d53c1f",
   "metadata": {},
   "source": [
    "Load the FOMC dates from the Excel file"
   ]
  },
  {
   "cell_type": "code",
   "execution_count": 31,
   "id": "2b10da92",
   "metadata": {},
   "outputs": [
    {
     "data": {
      "text/html": [
       "<div>\n",
       "<style scoped>\n",
       "    .dataframe tbody tr th:only-of-type {\n",
       "        vertical-align: middle;\n",
       "    }\n",
       "\n",
       "    .dataframe tbody tr th {\n",
       "        vertical-align: top;\n",
       "    }\n",
       "\n",
       "    .dataframe thead th {\n",
       "        text-align: right;\n",
       "    }\n",
       "</style>\n",
       "<table border=\"1\" class=\"dataframe\">\n",
       "  <thead>\n",
       "    <tr style=\"text-align: right;\">\n",
       "      <th></th>\n",
       "      <th>FOMC_date</th>\n",
       "      <th>q</th>\n",
       "    </tr>\n",
       "  </thead>\n",
       "  <tbody>\n",
       "    <tr>\n",
       "      <th>0</th>\n",
       "      <td>1936-03-19</td>\n",
       "      <td>1</td>\n",
       "    </tr>\n",
       "    <tr>\n",
       "      <th>1</th>\n",
       "      <td>1936-05-25</td>\n",
       "      <td>1</td>\n",
       "    </tr>\n",
       "    <tr>\n",
       "      <th>2</th>\n",
       "      <td>1936-11-20</td>\n",
       "      <td>1</td>\n",
       "    </tr>\n",
       "    <tr>\n",
       "      <th>3</th>\n",
       "      <td>1937-01-26</td>\n",
       "      <td>1</td>\n",
       "    </tr>\n",
       "    <tr>\n",
       "      <th>4</th>\n",
       "      <td>1937-03-15</td>\n",
       "      <td>1</td>\n",
       "    </tr>\n",
       "  </tbody>\n",
       "</table>\n",
       "</div>"
      ],
      "text/plain": [
       "   FOMC_date  q\n",
       "0 1936-03-19  1\n",
       "1 1936-05-25  1\n",
       "2 1936-11-20  1\n",
       "3 1937-01-26  1\n",
       "4 1937-03-15  1"
      ]
     },
     "execution_count": 31,
     "metadata": {},
     "output_type": "execute_result"
    }
   ],
   "source": [
    "fomc_dates = pd.read_excel(\"C:/Users/Alysson/Documents/GitHub/Monetary-Shocks/FOMCdate.xlsx\")\n",
    "fomc_dates.rename(columns={\"date\": \"FOMC_date\"}, inplace=True)\n",
    "fomc_dates.head()"
   ]
  },
  {
   "cell_type": "markdown",
   "id": "632ef496",
   "metadata": {},
   "source": [
    "Convert date to datetime format and create additional date-related columns"
   ]
  },
  {
   "cell_type": "code",
   "execution_count": 32,
   "id": "2fb3a66f",
   "metadata": {},
   "outputs": [],
   "source": [
    "fomc_dates[\"FOMC_date\"] = pd.to_datetime(fomc_dates[\"FOMC_date\"])\n",
    "fomc_dates[\"year\"] = fomc_dates[\"FOMC_date\"].dt.year\n",
    "fomc_dates[\"month\"] = fomc_dates[\"FOMC_date\"].dt.month\n",
    "fomc_dates[\"day\"] = fomc_dates[\"FOMC_date\"].dt.day\n",
    "fomc_dates[\"mdate\"] = fomc_dates[\"FOMC_date\"].dt.to_period(\"M\")\n",
    "\n",
    "MAR2020 = 0\n",
    "\n",
    "if MAR2020 == 0:\n",
    "    fomc_dates = fomc_dates[~((fomc_dates[\"year\"] == 2020) & (fomc_dates[\"month\"] == 3) & (fomc_dates[\"day\"] == 15))]\n"
   ]
  },
  {
   "cell_type": "markdown",
   "id": "575d3af7",
   "metadata": {},
   "source": [
    "Drop unnecessary columns"
   ]
  },
  {
   "cell_type": "code",
   "execution_count": 33,
   "id": "2315b8ef",
   "metadata": {},
   "outputs": [],
   "source": [
    "fomc_dates.drop(columns=[\"year\", \"month\", \"day\"], inplace=True)"
   ]
  },
  {
   "cell_type": "markdown",
   "id": "983040fa",
   "metadata": {},
   "source": [
    "Load the previous DataFrame \"temp.dta\" "
   ]
  },
  {
   "cell_type": "code",
   "execution_count": 34,
   "id": "4e941b63",
   "metadata": {},
   "outputs": [],
   "source": [
    "temp_data = pd.read_pickle(\"temp.pkl\")"
   ]
  },
  {
   "cell_type": "markdown",
   "id": "a81cff45",
   "metadata": {},
   "source": [
    "Merge the two DataFrames on the 'date' column"
   ]
  },
  {
   "cell_type": "code",
   "execution_count": 35,
   "id": "9d1c850f",
   "metadata": {},
   "outputs": [],
   "source": [
    "merged_data = pd.merge(temp_data, fomc_dates, how=\"inner\", left_on=\"date\", right_on=\"FOMC_date\")"
   ]
  },
  {
   "cell_type": "markdown",
   "id": "8c33c261",
   "metadata": {},
   "source": [
    "Drop rows where 'q' is missing (denoted as NaN)"
   ]
  },
  {
   "cell_type": "code",
   "execution_count": 36,
   "id": "56a00591",
   "metadata": {},
   "outputs": [],
   "source": [
    "merged_data = merged_data.dropna(subset=[\"q\"])"
   ]
  },
  {
   "cell_type": "markdown",
   "id": "720ce4f4",
   "metadata": {},
   "source": [
    "Replace missing values (NaN) in 'q' with 0"
   ]
  },
  {
   "cell_type": "code",
   "execution_count": 42,
   "id": "7a88891c",
   "metadata": {},
   "outputs": [
    {
     "data": {
      "text/html": [
       "<div>\n",
       "<style scoped>\n",
       "    .dataframe tbody tr th:only-of-type {\n",
       "        vertical-align: middle;\n",
       "    }\n",
       "\n",
       "    .dataframe tbody tr th {\n",
       "        vertical-align: top;\n",
       "    }\n",
       "\n",
       "    .dataframe thead th {\n",
       "        text-align: right;\n",
       "    }\n",
       "</style>\n",
       "<table border=\"1\" class=\"dataframe\">\n",
       "  <thead>\n",
       "    <tr style=\"text-align: right;\">\n",
       "      <th></th>\n",
       "      <th>date</th>\n",
       "      <th>DGS2</th>\n",
       "      <th>dgs_d</th>\n",
       "      <th>FOMC_date</th>\n",
       "      <th>q</th>\n",
       "      <th>mdate</th>\n",
       "    </tr>\n",
       "  </thead>\n",
       "  <tbody>\n",
       "    <tr>\n",
       "      <th>0</th>\n",
       "      <td>1994-02-04</td>\n",
       "      <td>4.42</td>\n",
       "      <td>0.14</td>\n",
       "      <td>1994-02-04</td>\n",
       "      <td>1</td>\n",
       "      <td>1994-02</td>\n",
       "    </tr>\n",
       "    <tr>\n",
       "      <th>1</th>\n",
       "      <td>1994-02-11</td>\n",
       "      <td>4.44</td>\n",
       "      <td>-0.01</td>\n",
       "      <td>1994-02-11</td>\n",
       "      <td>0</td>\n",
       "      <td>1994-02</td>\n",
       "    </tr>\n",
       "    <tr>\n",
       "      <th>2</th>\n",
       "      <td>1994-03-22</td>\n",
       "      <td>5.03</td>\n",
       "      <td>-0.06</td>\n",
       "      <td>1994-03-22</td>\n",
       "      <td>1</td>\n",
       "      <td>1994-03</td>\n",
       "    </tr>\n",
       "    <tr>\n",
       "      <th>3</th>\n",
       "      <td>1994-03-29</td>\n",
       "      <td>5.19</td>\n",
       "      <td>0.07</td>\n",
       "      <td>1994-03-29</td>\n",
       "      <td>0</td>\n",
       "      <td>1994-03</td>\n",
       "    </tr>\n",
       "    <tr>\n",
       "      <th>4</th>\n",
       "      <td>1994-05-17</td>\n",
       "      <td>5.88</td>\n",
       "      <td>-0.15</td>\n",
       "      <td>1994-05-17</td>\n",
       "      <td>1</td>\n",
       "      <td>1994-05</td>\n",
       "    </tr>\n",
       "  </tbody>\n",
       "</table>\n",
       "</div>"
      ],
      "text/plain": [
       "        date  DGS2  dgs_d  FOMC_date  q    mdate\n",
       "0 1994-02-04  4.42   0.14 1994-02-04  1  1994-02\n",
       "1 1994-02-11  4.44  -0.01 1994-02-11  0  1994-02\n",
       "2 1994-03-22  5.03  -0.06 1994-03-22  1  1994-03\n",
       "3 1994-03-29  5.19   0.07 1994-03-29  0  1994-03\n",
       "4 1994-05-17  5.88  -0.15 1994-05-17  1  1994-05"
      ]
     },
     "execution_count": 42,
     "metadata": {},
     "output_type": "execute_result"
    }
   ],
   "source": [
    "merged_data[\"q\"].fillna(0, inplace=True)\n",
    "merged_data.head()"
   ]
  },
  {
   "cell_type": "markdown",
   "id": "b27de91e",
   "metadata": {},
   "source": [
    "Save the merged DataFrame to a new file"
   ]
  },
  {
   "cell_type": "code",
   "execution_count": 40,
   "id": "15782b09",
   "metadata": {},
   "outputs": [],
   "source": [
    "merged_data.to_pickle(\"temp.pkl\")"
   ]
  },
  {
   "cell_type": "markdown",
   "id": "48ef649c",
   "metadata": {},
   "source": [
    "## 3. Estimation"
   ]
  },
  {
   "cell_type": "markdown",
   "id": "3c26725d",
   "metadata": {},
   "source": [
    "Load the data from \"feds200628.csv\" "
   ]
  },
  {
   "cell_type": "code",
   "execution_count": 44,
   "id": "477d15cc",
   "metadata": {},
   "outputs": [],
   "source": [
    "yield_data = pd.read_csv(r\"C:\\Users\\Alysson\\Documents\\GitHub\\Monetary-Shocks\\feds200628.csv\")"
   ]
  },
  {
   "cell_type": "markdown",
   "id": "1028b260",
   "metadata": {},
   "source": [
    "Convert 'date' column to datetime format"
   ]
  },
  {
   "cell_type": "code",
   "execution_count": null,
   "id": "088e97b0",
   "metadata": {},
   "outputs": [],
   "source": []
  },
  {
   "cell_type": "code",
   "execution_count": null,
   "id": "3a241c7e",
   "metadata": {},
   "outputs": [],
   "source": []
  }
 ],
 "metadata": {
  "kernelspec": {
   "display_name": "Python 3 (ipykernel)",
   "language": "python",
   "name": "python3"
  },
  "language_info": {
   "codemirror_mode": {
    "name": "ipython",
    "version": 3
   },
   "file_extension": ".py",
   "mimetype": "text/x-python",
   "name": "python",
   "nbconvert_exporter": "python",
   "pygments_lexer": "ipython3",
   "version": "3.11.3"
  }
 },
 "nbformat": 4,
 "nbformat_minor": 5
}
